{
 "cells": [
  {
   "cell_type": "markdown",
   "id": "cb6ddd46",
   "metadata": {},
   "source": [
    "Q1. What is the meaning of multiple inheritance?"
   ]
  },
  {
   "cell_type": "markdown",
   "id": "947dc844",
   "metadata": {},
   "source": [
    "Multiple inheritance is a feature that allows a class to inherit from multiple parent classes. In other words, a Python class can have multiple base classes, from which it can inherit attributes and methods. This enables a class to combine the features of multiple classes into a single class.\n",
    "eg :-"
   ]
  },
  {
   "cell_type": "code",
   "execution_count": null,
   "id": "cf7cd9da",
   "metadata": {},
   "outputs": [],
   "source": [
    "class ChildClass(ParentClass1, ParentClass2, ...):\n",
    "    # class definition"
   ]
  },
  {
   "cell_type": "code",
   "execution_count": null,
   "id": "17a6c341",
   "metadata": {},
   "outputs": [],
   "source": []
  },
  {
   "cell_type": "markdown",
   "id": "ee259a10",
   "metadata": {},
   "source": [
    "Q2. What is the concept of delegation?"
   ]
  },
  {
   "cell_type": "markdown",
   "id": "95f468c5",
   "metadata": {},
   "source": [
    "Delegation is a design pattern in Python that allows an object to pass on some of its responsibilities to another object. In delegation, an object delegates a task to another object, which is responsible for carrying out the task. This can be useful for creating flexible and modular code, where objects can work together to accomplish a common goal.\n",
    "\n",
    "In Python, delegation can be implemented by creating an object that contains an instance of another object and passes on tasks to that object when needed. The instance of the other object is accessed using a reference or attribute of the containing object. The containing object then delegates some or all of its responsibilities to the contained object."
   ]
  },
  {
   "cell_type": "code",
   "execution_count": null,
   "id": "778fb650",
   "metadata": {},
   "outputs": [],
   "source": []
  },
  {
   "cell_type": "markdown",
   "id": "4641ec97",
   "metadata": {},
   "source": [
    "Q3. What is the concept of composition?"
   ]
  },
  {
   "cell_type": "markdown",
   "id": "4c1f5c7f",
   "metadata": {},
   "source": [
    "Composition is a design pattern in Python that involves creating objects that contain other objects as their parts or components. In composition, objects are combined to form a more complex object, with the parts being responsible for their own behavior and the whole object coordinating the behavior of the parts to achieve a common goal.\n",
    "\n",
    "In Python, composition can be implemented by creating a class that contains an instance of another class and delegates some or all of its responsibilities to that class. The contained class is accessed using a reference or attribute of the containing class. The containing class then composes the behavior of the contained class with its own behavior to achieve a desired functionality."
   ]
  },
  {
   "cell_type": "code",
   "execution_count": null,
   "id": "17f120a5",
   "metadata": {},
   "outputs": [],
   "source": []
  },
  {
   "cell_type": "markdown",
   "id": "3bfd36d9",
   "metadata": {},
   "source": [
    "Q4. What are bound methods and how do we use them?"
   ]
  },
  {
   "cell_type": "markdown",
   "id": "fb863156",
   "metadata": {},
   "source": [
    "A bound method is a method that is bound to an instance of a class. When a method is called on an instance of a class, it is automatically passed the instance as its first argument, which is conventionally named self. This allows the method to access the instance's attributes and perform actions based on its state.\n",
    "\n",
    "To use a bound method in Python, we simply call the method on an instance of the class, like this:"
   ]
  },
  {
   "cell_type": "code",
   "execution_count": 2,
   "id": "85b5dcd0",
   "metadata": {},
   "outputs": [
    {
     "name": "stdout",
     "output_type": "stream",
     "text": [
      "MyClass.my_method called with arg=hello\n"
     ]
    }
   ],
   "source": [
    "class MyClass:\n",
    "    def my_method(self, arg):\n",
    "        print(f\"MyClass.my_method called with arg={arg}\")\n",
    "\n",
    "obj = MyClass()\n",
    "obj.my_method(\"hello\")"
   ]
  },
  {
   "cell_type": "markdown",
   "id": "c083935d",
   "metadata": {},
   "source": [
    "In this example, MyClass has a method called my_method that takes an argument arg. When my_method is called on an instance of MyClass (obj), it is automatically passed the instance as its first argument, and the argument arg as its second argument. The method then prints a message to the console."
   ]
  },
  {
   "cell_type": "code",
   "execution_count": null,
   "id": "64e6a40f",
   "metadata": {},
   "outputs": [],
   "source": []
  },
  {
   "cell_type": "markdown",
   "id": "b2dc6dbb",
   "metadata": {},
   "source": [
    "Q5. What is the purpose of pseudoprivate attributes?"
   ]
  },
  {
   "cell_type": "markdown",
   "id": "23a671ce",
   "metadata": {},
   "source": [
    "Pseudoprivate attributes are attributes that are prefixed with a double underscore (__) but not suffixed with another double underscore. These attributes are not truly private in the sense that they can still be accessed and modified from outside the class, but they are name-mangled to prevent name clashes with other attributes in subclasses.\n",
    "\n",
    "The purpose of pseudoprivate attributes is to avoid accidental name clashes between attributes in different classes, especially in large or complex code bases. When an attribute is name-mangled, its name is changed to include the class name as a prefix, followed by the original attribute name. This makes it unlikely that the attribute will be accidentally accessed or modified by another class, even if it has the same name.\n",
    "\n",
    "Here is an example of a class with pseudoprivate attributes in Python:"
   ]
  },
  {
   "cell_type": "code",
   "execution_count": 3,
   "id": "b041cd4f",
   "metadata": {},
   "outputs": [
    {
     "name": "stdout",
     "output_type": "stream",
     "text": [
      "The value of __private_attribute is 42\n",
      "This is a private method\n"
     ]
    }
   ],
   "source": [
    "class MyClass:\n",
    "    def __init__(self):\n",
    "        self.__private_attribute = 42\n",
    "        self.__other_private_attribute = \"hello\"\n",
    "\n",
    "    def __private_method(self):\n",
    "        print(\"This is a private method\")\n",
    "\n",
    "    def public_method(self):\n",
    "        print(f\"The value of __private_attribute is {self.__private_attribute}\")\n",
    "        self.__private_method()\n",
    "\n",
    "obj = MyClass()\n",
    "obj.public_method()"
   ]
  },
  {
   "cell_type": "markdown",
   "id": "8fce0383",
   "metadata": {},
   "source": [
    "In this example, MyClass has two pseudoprivate attributes (__private_attribute and __other_private_attribute) and a pseudoprivate method (__private_method). The public_method of MyClass can access these attributes and methods, but they are name-mangled to prevent name clashes with other classes.\n",
    "\n",
    "It's important to note that pseudoprivate attributes and methods are not truly private and can still be accessed and modified from outside the class. Therefore, they should be used with caution and not relied upon for security or data encapsulation."
   ]
  },
  {
   "cell_type": "code",
   "execution_count": null,
   "id": "441d48ef",
   "metadata": {},
   "outputs": [],
   "source": []
  }
 ],
 "metadata": {
  "kernelspec": {
   "display_name": "Python 3 (ipykernel)",
   "language": "python",
   "name": "python3"
  },
  "language_info": {
   "codemirror_mode": {
    "name": "ipython",
    "version": 3
   },
   "file_extension": ".py",
   "mimetype": "text/x-python",
   "name": "python",
   "nbconvert_exporter": "python",
   "pygments_lexer": "ipython3",
   "version": "3.9.12"
  }
 },
 "nbformat": 4,
 "nbformat_minor": 5
}
