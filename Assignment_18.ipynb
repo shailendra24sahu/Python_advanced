{
 "cells": [
  {
   "cell_type": "markdown",
   "id": "1e9b6d5d",
   "metadata": {},
   "source": [
    "Q1. Describe the differences between text and binary files in a single paragraph."
   ]
  },
  {
   "cell_type": "markdown",
   "id": "6b94d7c5",
   "metadata": {},
   "source": [
    "A text file consists of human readable characters, which can be opened by any text editor. On the other hand, binary files are made up of non-human readable characters and symbols, which require specific programs to access its contents."
   ]
  },
  {
   "cell_type": "code",
   "execution_count": null,
   "id": "437b89ca",
   "metadata": {},
   "outputs": [],
   "source": []
  },
  {
   "cell_type": "markdown",
   "id": "8697f7c4",
   "metadata": {},
   "source": [
    "Q2. What are some scenarios where using text files will be the better option? When would you like to\n",
    "use binary files instead of text files?"
   ]
  },
  {
   "cell_type": "markdown",
   "id": "5037bcdb",
   "metadata": {},
   "source": [
    "- Text files are used to store data more user friendly. Binary files are used to store data more compactly. In the text file, a special character whose ASCII value is 26 inserted after the last character to mark the end of file. In the binary file no such character is present.\n",
    "- One of the advantages of binary files is that they are more efficient. In terms of memory, storing values using numeric formats such as IEEE 754, rather than as text characters, tends to use less memory. In addition, binary formats also offer advantages in terms of speed of access."
   ]
  },
  {
   "cell_type": "code",
   "execution_count": null,
   "id": "f1a4629c",
   "metadata": {},
   "outputs": [],
   "source": []
  },
  {
   "cell_type": "markdown",
   "id": "2bb89714",
   "metadata": {},
   "source": [
    "Q3. What are some of the issues with using binary operations to read and write a Python integer\n",
    "directly to disc?"
   ]
  },
  {
   "cell_type": "markdown",
   "id": "f39669af",
   "metadata": {},
   "source": [
    "While binary operations can be used to read and write Python integers directly to disk, there are several issues to be aware of:\n",
    "\n",
    "1. Endianness: Different computer architectures use different byte orders for storing integers in memory. If we write an integer to disk using one byte order and try to read it back using a different byte order, we will get the wrong value. To avoid this issue, we need to ensure that we write and read integers in a consistent byte order.\n",
    "\n",
    "2. Data type: When we read data from disk, we need to know what data type to expect. If we read a binary file that contains integers but treat the data as floating-point numbers, we will get garbage data. Therefore, we need to ensure that we write and read data in the correct data type.\n",
    "\n",
    "3. Portability: Binary files written by one system may not be compatible with another system due to differences in byte order or data type. Therefore, we need to ensure that the file format we use is portable across different systems.\n",
    "\n",
    "4. Data corruption: If the binary file is corrupted or truncated, reading it back can result in undefined behavior or errors. Therefore, we need to ensure that we have proper error handling and validation when reading and writing binary files.\n",
    "\n",
    "In general, it is recommended to use a higher-level serialization format, such as JSON or pickle, to write Python objects to disk. These formats handle issues such as endianness and data type automatically and are more portable across different systems. Additionally, they provide a more human-readable and editable format that can be easily inspected and modified."
   ]
  },
  {
   "cell_type": "code",
   "execution_count": null,
   "id": "c9485d40",
   "metadata": {},
   "outputs": [],
   "source": []
  },
  {
   "cell_type": "markdown",
   "id": "e8aa1787",
   "metadata": {},
   "source": [
    "Q4. Describe a benefit of using the with keyword instead of explicitly opening a file."
   ]
  },
  {
   "cell_type": "markdown",
   "id": "92c5f0cd",
   "metadata": {},
   "source": [
    "- With the “With” statement, we get better syntax and exception handling. The with statement simplifies exception handling by encapsulating common preparation and cleanup tasks.\n",
    "- In addition, it will automatically close the file. \n",
    "- The with statement provides a way for ensuring that a clean-up is always used."
   ]
  },
  {
   "cell_type": "code",
   "execution_count": null,
   "id": "2f510309",
   "metadata": {},
   "outputs": [],
   "source": []
  },
  {
   "cell_type": "markdown",
   "id": "3dad908a",
   "metadata": {},
   "source": [
    "Q5. Does Python have the trailing newline while reading a line of text? Does Python append a\n",
    "newline when you write a line of text?"
   ]
  },
  {
   "cell_type": "markdown",
   "id": "75027c39",
   "metadata": {},
   "source": [
    "- Yes, Python file method readline() reads one entire line from the file. A trailing newline character is kept in the string.\n",
    "- In Python, the new line character “\\n” is used to create a new line. When inserted in a string all the characters after the character are added to a new line."
   ]
  },
  {
   "cell_type": "code",
   "execution_count": null,
   "id": "df998c20",
   "metadata": {},
   "outputs": [],
   "source": []
  },
  {
   "cell_type": "markdown",
   "id": "68f064a3",
   "metadata": {},
   "source": [
    "Q6. What file operations enable for random-access operation?"
   ]
  },
  {
   "cell_type": "markdown",
   "id": "c3a7bbe6",
   "metadata": {},
   "source": [
    "In Python, the file operations that enable random-access operation are `seek()` and `tell()`. These functions allow us to move the file pointer to a specific position in the file and get the current position of the file pointer, respectively.\n",
    "\n",
    "The `seek()` function takes a single argument, which specifies the position to seek to in the file. The position can be specified as an offset from the beginning of the file (default), the current position, or the end of the file. For example, to seek to the 100th byte of a file:\n",
    "\n",
    "```\n",
    "with open(\"myfile.txt\", \"rb\") as file:\n",
    "    file.seek(100)\n",
    "```\n",
    "\n",
    "The `tell()` function returns the current position of the file pointer as an integer offset from the beginning of the file. For example, to get the current position of the file pointer:\n",
    "\n",
    "```\n",
    "with open(\"myfile.txt\", \"rb\") as file:\n",
    "    position = file.tell()\n",
    "```\n",
    "\n",
    "By using these functions in combination with other file operations, such as `read()` and `write()`, we can perform random-access operations on a file, such as reading or writing data at a specific location within the file.\n",
    "\n",
    "It's important to note that not all file modes support random-access operations. For example, the `\"a\"` (append) mode only allows to write data to the end of the file. Therefore, if we need to perform random-access operations on a file, we should open the file in a mode that allows it, such as `\"r+\"` (read and write)."
   ]
  },
  {
   "cell_type": "code",
   "execution_count": null,
   "id": "0e3e3c2b",
   "metadata": {},
   "outputs": [],
   "source": []
  },
  {
   "cell_type": "markdown",
   "id": "c6bd2060",
   "metadata": {},
   "source": [
    "Q7. When do you think you&#39;ll use the struct package the most?"
   ]
  },
  {
   "cell_type": "markdown",
   "id": "d5123243",
   "metadata": {},
   "source": [
    "The struct module in Python is used to convert native Python data types such as strings and numbers into a string of bytes and vice versa. What this means is that users can parse binary files of data stored in C structs in Python.\n",
    "It is used mostly for handling binary data stored in files or from network connections, among other sources.\n",
    "\n",
    "struct.pack() is the function that converts a given list of values into their corresponding string representation. It requires the user to specify the format and order of the values that need to be converted."
   ]
  },
  {
   "cell_type": "code",
   "execution_count": null,
   "id": "b5a5da0c",
   "metadata": {},
   "outputs": [],
   "source": []
  },
  {
   "cell_type": "markdown",
   "id": "69c9d70e",
   "metadata": {},
   "source": [
    "Q8. When is pickling the best option?"
   ]
  },
  {
   "cell_type": "markdown",
   "id": "de582f4d",
   "metadata": {},
   "source": [
    "Pickle allows for flexibility when deserializing objects. We can easily save different variables into a Pickle file and load them back in a different Python session, recovering our data exactly the way it was without having to edit our code."
   ]
  },
  {
   "cell_type": "code",
   "execution_count": null,
   "id": "d834f596",
   "metadata": {},
   "outputs": [],
   "source": []
  },
  {
   "cell_type": "markdown",
   "id": "012e4e32",
   "metadata": {},
   "source": [
    "Q9. When will it be best to use the shelve package?"
   ]
  },
  {
   "cell_type": "markdown",
   "id": "59fbd763",
   "metadata": {},
   "source": [
    "The shelve module in Python’s standard library is a simple yet effective tool for persistent data storage when using a relational database solution is not required. The shelf object defined in this module is dictionary-like object which is persistently stored in a disk file"
   ]
  },
  {
   "cell_type": "code",
   "execution_count": null,
   "id": "263efaa0",
   "metadata": {},
   "outputs": [],
   "source": []
  },
  {
   "cell_type": "markdown",
   "id": "d233528d",
   "metadata": {},
   "source": [
    "Q10. What is a special restriction when using the shelve package, as opposed to using other data\n",
    "dictionaries?"
   ]
  },
  {
   "cell_type": "markdown",
   "id": "6c38195e",
   "metadata": {},
   "source": [
    "The shelf dictionary has certain restrictions. \n",
    "- Only string data type can be used as key in this special dictionary object, whereas any picklable Python object can be used as value."
   ]
  },
  {
   "cell_type": "code",
   "execution_count": null,
   "id": "fb33ce60",
   "metadata": {},
   "outputs": [],
   "source": []
  }
 ],
 "metadata": {
  "kernelspec": {
   "display_name": "Python 3 (ipykernel)",
   "language": "python",
   "name": "python3"
  },
  "language_info": {
   "codemirror_mode": {
    "name": "ipython",
    "version": 3
   },
   "file_extension": ".py",
   "mimetype": "text/x-python",
   "name": "python",
   "nbconvert_exporter": "python",
   "pygments_lexer": "ipython3",
   "version": "3.9.12"
  }
 },
 "nbformat": 4,
 "nbformat_minor": 5
}
