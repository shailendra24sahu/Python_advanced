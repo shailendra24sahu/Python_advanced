{
 "cells": [
  {
   "cell_type": "markdown",
   "id": "26e9df94",
   "metadata": {},
   "source": [
    "1. What are the new features added in Python 3.8 version?"
   ]
  },
  {
   "cell_type": "markdown",
   "id": "a3ac8010",
   "metadata": {},
   "source": [
    "- Assignment expressions.\n",
    "- Positional-only parameters.\n",
    "- Parallel filesystem cache for compiled bytecode files.\n",
    "- Debug build uses the same ABI as release build.\n",
    "- f-strings support = for self-documenting expressions and debugging.\n",
    "- PEP 578: Python Runtime Audit Hooks.\n",
    "- PEP 587: Python Initialization Configuration."
   ]
  },
  {
   "cell_type": "code",
   "execution_count": null,
   "id": "13812f36",
   "metadata": {},
   "outputs": [],
   "source": []
  },
  {
   "cell_type": "markdown",
   "id": "8f3bd6a3",
   "metadata": {},
   "source": [
    "2. What is monkey patching in Python?"
   ]
  },
  {
   "cell_type": "markdown",
   "id": "97277337",
   "metadata": {},
   "source": [
    "Monkey patching in Python refers to the practice of dynamically modifying or extending the behavior of existing classes or modules at runtime. It allows you to add, replace, or modify methods, attributes, or functions in existing code without having to modify the original source code.\n",
    "\n",
    "Here are a few key points about monkey patching:\n",
    "\n",
    "1. Dynamic Modification: Monkey patching enables you to modify the behavior of a class or module during runtime, without altering the original source code. This can be useful when you want to extend or enhance the functionality of existing code without having to directly modify it.\n",
    "\n",
    "2. Patching Classes: Monkey patching can involve adding new methods or attributes to an existing class, overriding existing methods, or even replacing entire classes with new implementations.\n",
    "\n",
    "3. Patching Modules: Monkey patching can also be applied to modules, allowing you to add, replace, or modify functions, constants, or variables within a module.\n",
    "\n",
    "4. Caution and Best Practices: While monkey patching can be a powerful technique, it should be used with caution. Modifying code at runtime can make it harder to understand and maintain, and it may introduce unexpected behavior or compatibility issues. It's generally recommended to use monkey patching sparingly and only when necessary, clearly documenting any modifications made.\n",
    "\n",
    "Here's a simple example of monkey patching in Python:"
   ]
  },
  {
   "cell_type": "code",
   "execution_count": 2,
   "id": "770afa40",
   "metadata": {},
   "outputs": [
    {
     "name": "stdout",
     "output_type": "stream",
     "text": [
      "This is the patched method.\n"
     ]
    }
   ],
   "source": [
    "# Original class\n",
    "class OriginalClass:\n",
    "    def original_method(self):\n",
    "        print(\"This is the original method.\")\n",
    "\n",
    "# Monkey patching\n",
    "def patched_method(self):\n",
    "    print(\"This is the patched method.\")\n",
    "\n",
    "OriginalClass.original_method = patched_method\n",
    "\n",
    "# Creating an instance of the original class\n",
    "obj = OriginalClass()\n",
    "\n",
    "# Calling the patched method (which replaced the original method)\n",
    "obj.original_method()  # Output: \"This is the patched method.\""
   ]
  },
  {
   "cell_type": "markdown",
   "id": "3caaaa67",
   "metadata": {},
   "source": [
    "\n",
    "In the example, we define a class `OriginalClass` with an `original_method()`. Then, we define a new function `patched_method()` and assign it to the `original_method` attribute of `OriginalClass`. As a result, when we create an instance of `OriginalClass` and call `original_method()`, the modified `patched_method()` is executed instead of the original implementation.\n",
    "\n",
    "Monkey patching can be a useful technique in certain situations, such as fixing bugs or adding new functionality to third-party libraries. However, it's important to use it judiciously and document the changes properly to maintain code clarity and avoid potential conflicts."
   ]
  },
  {
   "cell_type": "code",
   "execution_count": null,
   "id": "98c5dab8",
   "metadata": {},
   "outputs": [],
   "source": []
  },
  {
   "cell_type": "markdown",
   "id": "6b9cef27",
   "metadata": {},
   "source": [
    "3. What is the difference between a shallow copy and deep copy?"
   ]
  },
  {
   "cell_type": "markdown",
   "id": "8e6c4e78",
   "metadata": {},
   "source": [
    "In Python, the concepts of shallow copy and deep copy are related to creating copies of objects or data structures. Let's understand the difference between the two:\n",
    "\n",
    "1. Shallow Copy:\n",
    "   - A shallow copy creates a new object or data structure, but the elements of the new copy still reference the same objects as the original.\n",
    "   - In other words, it creates a new container object but keeps the references to the objects in the original container.\n",
    "   - Changes made to the original objects will be reflected in both the original and the shallow copy.\n",
    "   - Shallow copy is usually performed using the `copy()` method or the `[:]` slicing syntax.\n",
    "\n",
    "2. Deep Copy:\n",
    "   - A deep copy creates a new object or data structure and recursively copies all the objects found within the original.\n",
    "   - It means that both the container and the objects contained within it are entirely independent of the original.\n",
    "   - Changes made to the original objects will not affect the deep copy, and vice versa.\n",
    "   - Deep copy is typically done using the `deepcopy()` function from the `copy` module.\n"
   ]
  },
  {
   "cell_type": "code",
   "execution_count": 1,
   "id": "5b291537",
   "metadata": {},
   "outputs": [
    {
     "name": "stdout",
     "output_type": "stream",
     "text": [
      "[1, 2, [6, 4]]\n",
      "[5, 2, [6, 4]]\n",
      "[1, 2, [6, 4]]\n",
      "[7, 2, [8, 4]]\n"
     ]
    }
   ],
   "source": [
    "import copy\n",
    "\n",
    "# Original list\n",
    "original_list = [1, 2, [3, 4]]\n",
    "\n",
    "# Shallow copy\n",
    "shallow_copy = original_list.copy()\n",
    "shallow_copy[0] = 5\n",
    "shallow_copy[2][0] = 6\n",
    "\n",
    "print(original_list)  # Output: [1, 2, [6, 4]]\n",
    "print(shallow_copy)   # Output: [5, 2, [6, 4]]\n",
    "\n",
    "# Deep copy\n",
    "deep_copy = copy.deepcopy(original_list)\n",
    "deep_copy[0] = 7\n",
    "deep_copy[2][0] = 8\n",
    "\n",
    "print(original_list)  # Output: [1, 2, [6, 4]]\n",
    "print(deep_copy)      # Output: [7, 2, [8, 4]]\n"
   ]
  },
  {
   "cell_type": "markdown",
   "id": "9bba86e8",
   "metadata": {},
   "source": [
    "In the example, after modifying the elements of the shallow copy, the original list is also affected because they still reference the same objects. However, when modifying the deep copy, the original list remains unchanged since a completely independent copy of the objects was created.\n",
    "\n",
    "It's important to note that the concepts of shallow copy and deep copy apply to mutable objects (like lists, dictionaries, etc.) since immutable objects (like integers, strings, tuples) are not affected by these operations."
   ]
  },
  {
   "cell_type": "code",
   "execution_count": null,
   "id": "803e9dc3",
   "metadata": {},
   "outputs": [],
   "source": []
  },
  {
   "cell_type": "markdown",
   "id": "e486aec4",
   "metadata": {},
   "source": [
    "4. What is the maximum possible length of an identifier?"
   ]
  },
  {
   "cell_type": "markdown",
   "id": "216d58ac",
   "metadata": {},
   "source": [
    "Python Identifier is the name we give to identify a variable, function, class, module or other object. That means whenever we want to give an entity a name, that's called identifier. Sometimes variable and identifier are often misunderstood as same but they are not.\n",
    "- An identifier can have a maximum length of 79 characters in Python."
   ]
  },
  {
   "cell_type": "code",
   "execution_count": null,
   "id": "c7e5cf28",
   "metadata": {},
   "outputs": [],
   "source": []
  },
  {
   "cell_type": "markdown",
   "id": "100e4553",
   "metadata": {},
   "source": [
    "5. What is generator comprehension?"
   ]
  },
  {
   "cell_type": "markdown",
   "id": "80fe10c0",
   "metadata": {},
   "source": [
    "A generator comprehension is a single-line specification for defining a generator in Python. Example - "
   ]
  },
  {
   "cell_type": "code",
   "execution_count": 1,
   "id": "45ccfdce",
   "metadata": {},
   "outputs": [
    {
     "name": "stdout",
     "output_type": "stream",
     "text": [
      "(0, 0, 0)\n",
      "(1, 1, 1)\n"
     ]
    }
   ],
   "source": [
    "gen = ((i, i**2, i**3) for i in range(10))\n",
    "print(next(gen))\n",
    "print(next(gen))"
   ]
  }
 ],
 "metadata": {
  "kernelspec": {
   "display_name": "Python 3 (ipykernel)",
   "language": "python",
   "name": "python3"
  },
  "language_info": {
   "codemirror_mode": {
    "name": "ipython",
    "version": 3
   },
   "file_extension": ".py",
   "mimetype": "text/x-python",
   "name": "python",
   "nbconvert_exporter": "python",
   "pygments_lexer": "ipython3",
   "version": "3.10.9"
  }
 },
 "nbformat": 4,
 "nbformat_minor": 5
}
