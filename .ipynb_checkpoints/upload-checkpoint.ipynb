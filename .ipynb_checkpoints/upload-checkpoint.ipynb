{
 "cells": [
  {
   "cell_type": "markdown",
   "id": "381b8756",
   "metadata": {},
   "source": [
    "### Q1. Describe three applications for exception processing."
   ]
  },
  {
   "cell_type": "markdown",
   "id": "5b7b7356",
   "metadata": {},
   "source": [
    "Exception processing is an important feature of Python that allows for handling of errors and exceptions that can occur during program execution. Here are three applications of exception processing in Python:\n",
    "\n",
    "1. Error handling: When a program encounters an error, such as a division by zero or a file that cannot be found, it raises an exception. By using exception handling, the program can catch and handle these exceptions in a way that provides feedback to the user or takes corrective action. For example, a program that reads data from a file can catch exceptions when the file is not found or when there is an error reading the file.\n",
    "\n",
    "```python\n",
    "try:\n",
    "    result = x / y\n",
    "except ZeroDivisionError:\n",
    "    print(\"Error: division by zero\")\n",
    "```\n",
    "\n",
    "2. Resource management: In some cases, a program may need to acquire resources, such as file handles or network connections, and ensure that they are properly released when they are no longer needed. By using exception handling, the program can ensure that resources are properly released, even if an error occurs. For example, a program that opens a network connection can catch exceptions when the connection is lost or when there is an error sending or receiving data.\n",
    "\n",
    "```python\n",
    "try:\n",
    "    conn = open_connection()\n",
    "    data = conn.recv()\n",
    "finally:\n",
    "    conn.close()\n",
    "```\n",
    "\n",
    "3. Program flow control: In some cases, a program may need to change its flow based on certain conditions or events. By using exception handling, the program can change its flow based on the occurrence of an exception. For example, a program that searches for a value in a list can catch exceptions when the value is not found and perform a different action based on whether the value is found or not.\n",
    "\n",
    "```python\n",
    "try:\n",
    "    index = mylist.index(value)\n",
    "except ValueError:\n",
    "    print(\"Value not found\")\n",
    "else:\n",
    "    print(\"Value found at index:\", index)\n",
    "```"
   ]
  },
  {
   "cell_type": "code",
   "execution_count": null,
   "id": "7f303306",
   "metadata": {},
   "outputs": [],
   "source": []
  },
  {
   "cell_type": "markdown",
   "id": "eb64ee53",
   "metadata": {},
   "source": [
    "### Q2. What happens if you don&#39;t do something extra to treat an exception?"
   ]
  },
  {
   "cell_type": "markdown",
   "id": "e7f53f77",
   "metadata": {},
   "source": [
    "If we don't handle or treat an exception in Python, the program will terminate abruptly and display an error message that includes a traceback of the code leading up to the exception. This can be problematic because it doesn't provide any useful information to the user and doesn't allow the program to gracefully recover from the error."
   ]
  },
  {
   "cell_type": "code",
   "execution_count": null,
   "id": "8d210d40",
   "metadata": {},
   "outputs": [],
   "source": []
  },
  {
   "cell_type": "markdown",
   "id": "828bc7a1",
   "metadata": {},
   "source": [
    "### Q3. What are your options for recovering from an exception in your script?"
   ]
  },
  {
   "cell_type": "markdown",
   "id": "6eab45d4",
   "metadata": {},
   "source": [
    "When an exception is raised during the execution of a script, there are several options available for recovering from the exception and allowing the program to continue running. Here are some common techniques:\n",
    "\n",
    "1. `try-except` block: We can use a `try-except` block to catch and handle the exception. This allows us to execute alternative code if an exception is raised. For example:\n",
    "\n",
    "```python\n",
    "try:\n",
    "    # Some code that might raise an exception\n",
    "except SomeException:\n",
    "    # Code to handle the exception and recover\n",
    "```\n",
    "\n",
    "2. `try-finally` block: We can use a `try-finally` block to ensure that certain code is always executed, regardless of whether an exception is raised. This is useful for releasing resources or closing files. For example:\n",
    "\n",
    "```python\n",
    "try:\n",
    "    # Some code that might raise an exception\n",
    "finally:\n",
    "    # Code that should always be executed, regardless of whether an exception is raised\n",
    "```\n",
    "\n",
    "3. `else` clause: We can use an `else` clause with a `try-except` block to execute code only if no exceptions are raised. This can be useful for executing code that should only be run if the main code block executes successfully. For example:\n",
    "\n",
    "```python\n",
    "try:\n",
    "    # Some code that might raise an exception\n",
    "except SomeException:\n",
    "    # Code to handle the exception and recover\n",
    "else:\n",
    "    # Code to run if no exceptions are raised\n",
    "```\n",
    "\n",
    "4. `raise` statement: We can use the `raise` statement to raise our own exceptions in response to certain conditions. This can be useful for signaling errors or other exceptional conditions. For example:\n",
    "\n",
    "```python\n",
    "if condition:\n",
    "    raise ValueError(\"Invalid value\")\n",
    "```"
   ]
  },
  {
   "cell_type": "code",
   "execution_count": null,
   "id": "8f5f8f9f",
   "metadata": {},
   "outputs": [],
   "source": []
  },
  {
   "cell_type": "markdown",
   "id": "29220948",
   "metadata": {},
   "source": [
    "### Q4. Describe two methods for triggering exceptions in your script."
   ]
  },
  {
   "cell_type": "markdown",
   "id": "5d402ac7",
   "metadata": {},
   "source": [
    "1. `raise` statement: we can use the `raise` statement to explicitly raise an exception at any point in the script. This is useful when we encounter an error condition that we want to signal to the calling code. For example:\n",
    "\n",
    "```python\n",
    "if x < 0:\n",
    "    raise ValueError(\"x must be non-negative\")\n",
    "```\n",
    "\n",
    "In this example, if `x` is less than 0, a `ValueError` exception is raised with the message \"x must be non-negative\".\n",
    "\n",
    "2. Built-in functions: Many built-in functions in Python can raise exceptions if they encounter an error condition. For example, the `open()` function can raise a `FileNotFoundError` if it cannot find the specified file, and the `int()` function can raise a `ValueError` if the provided argument cannot be converted to an integer. For example:\n",
    "\n",
    "```python\n",
    "try:\n",
    "    x = int(\"abc\")\n",
    "except ValueError:\n",
    "    print(\"Invalid argument\")\n",
    "```\n",
    "\n",
    "In this example, the `int()` function is called with the argument \"abc\", which cannot be converted to an integer, so a `ValueError` is raised and caught by the `try-except` block, which prints the message \"Invalid argument\"."
   ]
  },
  {
   "cell_type": "code",
   "execution_count": 5,
   "id": "957ed829",
   "metadata": {},
   "outputs": [
    {
     "name": "stdout",
     "output_type": "stream",
     "text": [
      "division by zero\n"
     ]
    }
   ],
   "source": [
    "try:\n",
    "    9/0\n",
    "except Exception as e:\n",
    "    print(e)"
   ]
  },
  {
   "cell_type": "code",
   "execution_count": null,
   "id": "1c7ef7ee",
   "metadata": {},
   "outputs": [],
   "source": []
  },
  {
   "cell_type": "markdown",
   "id": "a3211caa",
   "metadata": {},
   "source": [
    "### Q5. Identify two methods for specifying actions to be executed at termination time, regardless of whether or not an exception exists."
   ]
  },
  {
   "cell_type": "markdown",
   "id": "c7ff0934",
   "metadata": {},
   "source": [
    "These are the two common methods for specifying actions to be executed at termination time, regardless of whether or not an exception exists:\n",
    "\n",
    "1. `try-finally` block: We can use a `try-finally` block to ensure that certain code is always executed, regardless of whether an exception is raised. This is useful for releasing resources or closing files, for example. The code in the `finally` block will be executed even if an exception is raised in the `try` block. For example:\n",
    "\n",
    "```python\n",
    "try:\n",
    "    # Some code that might raise an exception\n",
    "finally:\n",
    "    # Code that should always be executed, regardless of whether an exception is raised\n",
    "```\n",
    "\n",
    "In this example, the code in the `finally` block will always be executed, regardless of whether an exception is raised in the `try` block.\n",
    "\n",
    "2. `atexit` module: The `atexit` module provides a way to register functions that will be called when the Python interpreter exits, either normally or with an unhandled exception. You can register a function using the `register()` method of the `atexit` module. For example:\n",
    "\n",
    "```python\n",
    "import atexit\n",
    "\n",
    "def cleanup():\n",
    "    # Code to execute at exit time\n",
    "\n",
    "atexit.register(cleanup)\n",
    "```\n",
    "\n",
    "In this example, the `cleanup()` function will be executed when the Python interpreter exits, either normally or with an unhandled exception."
   ]
  },
  {
   "cell_type": "code",
   "execution_count": null,
   "id": "370f984c",
   "metadata": {},
   "outputs": [],
   "source": []
  },
  {
   "cell_type": "markdown",
   "id": "427eb8e7",
   "metadata": {},
   "source": [
    "### Q6. What are the two latest user-defined exception constraints in Python 3.X?"
   ]
  },
  {
   "cell_type": "markdown",
   "id": "b4ab558e",
   "metadata": {},
   "source": [
    "In Python 3.x, there are two latest user-defined exception constraints:\n",
    "\n",
    "The exception class must be derived from the built-in Exception class: When defining a custom exception class, it is important to ensure that it is derived from the built-in Exception class. This is because all exceptions in Python are subclasses of Exception, so by deriving our custom exception from Exception, we ensure that it can be caught and handled in the same way as built-in exceptions.\n",
    "\n",
    "The exception class should have a meaningful name: When defining a custom exception class, it is important to give it a name that clearly indicates what type of error it represents. This makes it easier to understand the purpose of the exception when it is raised and caught in the code. A good convention to follow is to end the name of the exception class with the word \"Error\", such as ValueError or TypeError.\n",
    "\n",
    "Here is an example of a custom exception class that follows these constraints:\n",
    "\n",
    "class InvalidInputError(Exception):\n",
    "    pass"
   ]
  },
  {
   "cell_type": "code",
   "execution_count": null,
   "id": "0845bd72",
   "metadata": {},
   "outputs": [],
   "source": []
  },
  {
   "cell_type": "markdown",
   "id": "e86e5f49",
   "metadata": {},
   "source": [
    "### Q7. How are class-based exceptions that have been raised matched to handlers?"
   ]
  },
  {
   "cell_type": "markdown",
   "id": "d3ecb1e6",
   "metadata": {},
   "source": [
    "When a class-based exception is raised in Python, the interpreter searches for an appropriate exception handler to handle the exception. The search for a matching handler proceeds as follows:\n",
    "\n",
    "1. The interpreter looks for an exception handler that explicitly matches the type of the raised exception. If a handler with an exact match is found, it is executed.\n",
    "\n",
    "2. If no exact match is found, the interpreter looks for a handler that matches a superclass of the raised exception. This allows us to catch a broader range of exceptions with a single handler.\n",
    "\n",
    "3. If no matching handler is found at all, the exception propagates up the call stack until it reaches the top level of the program, where it is either handled by a default exception handler or causes the program to terminate with an error message.\n",
    "\n",
    "Here is an example that demonstrates how class-based exceptions are matched to handlers:\n",
    "\n",
    "```python\n",
    "class CustomError(Exception):\n",
    "    pass\n",
    "\n",
    "try:\n",
    "    # Some code that might raise CustomError\n",
    "    raise CustomError(\"Something went wrong\")\n",
    "except CustomError as e:\n",
    "    # Handle CustomError\n",
    "    print(\"CustomError occurred:\", e)\n",
    "except Exception as e:\n",
    "    # Handle all other exceptions\n",
    "    print(\"An error occurred:\", e)\n",
    "```\n",
    "\n",
    "In this example, if the code inside the `try` block raises a `CustomError` exception, the interpreter searches for a matching handler. Since we have defined a `except CustomError` handler, this handler is executed and the program continues to run. If the code inside the `try` block raises a different type of exception, such as `ValueError`, the interpreter looks for a matching handler and finds the `except Exception` handler, which handles all other types of exceptions."
   ]
  },
  {
   "cell_type": "markdown",
   "id": "9f71b0b2",
   "metadata": {},
   "source": []
  },
  {
   "cell_type": "markdown",
   "id": "7d31b32a",
   "metadata": {},
   "source": [
    "### Q8. Describe two methods for attaching context information to exception artefacts"
   ]
  },
  {
   "cell_type": "markdown",
   "id": "e015ccd0",
   "metadata": {},
   "source": [
    "The two common methods for attaching context information to exception artifacts:\n",
    "\n",
    "1. Using the `with_traceback()` method: This method allows to attach a traceback to an exception object. The `traceback` argument should be a traceback object or `None`. If it is `None`, the traceback is extracted from the current stack frame. Here's an example:\n",
    "\n",
    "   ```python\n",
    "   try:\n",
    "       # some code that might raise an exception\n",
    "       pass\n",
    "   except Exception as e:\n",
    "       tb = e.__traceback__\n",
    "       # attach some context information to the traceback\n",
    "       tb = tb.with_traceback(tb, filename='example.py', line=42)\n",
    "       raise e.with_traceback(tb)\n",
    "   ```\n",
    "\n",
    "   In this example, we catch an exception and obtain its traceback using the `__traceback__` attribute. We then attach some context information to the traceback using the `with_traceback()` method and re-raise the exception with the modified traceback.\n",
    "\n",
    "2. Using a custom exception class: Another way to attach context information to an exception is to define a custom exception class that includes attributes to store the context information. Here's an example:\n",
    "\n",
    "   ```python\n",
    "   class MyException(Exception):\n",
    "       def __init__(self, message, context):\n",
    "           super().__init__(message)\n",
    "           self.context = context\n",
    "\n",
    "   try:\n",
    "       # some code that might raise an exception\n",
    "       pass\n",
    "   except Exception as e:\n",
    "       # attach some context information to the exception\n",
    "       context = {'filename': 'example.py', 'line': 42}\n",
    "       raise MyException(str(e), context)\n",
    "   ```\n",
    "\n",
    "   In this example, we define a custom exception class `MyException` that takes a `message` and a `context` argument. We then catch an exception, attach some context information to it, and raise a new instance of `MyException` with the modified message and context information.\n",
    "\n",
    "By attaching context information to exception artifacts in these ways, we can provide more useful error messages and make it easier to debug problems in code."
   ]
  },
  {
   "cell_type": "markdown",
   "id": "bdbf9380",
   "metadata": {},
   "source": []
  },
  {
   "cell_type": "markdown",
   "id": "c3947896",
   "metadata": {},
   "source": [
    "### Q9. Describe two methods for specifying the text of an exception object's error message."
   ]
  },
  {
   "cell_type": "markdown",
   "id": "87644ea9",
   "metadata": {},
   "source": [
    "Two common methods for specifying the text of an exception object's error message:\n",
    "\n",
    "1. Using the `raise` statement with an exception class and a string argument: When we raise an exception using the `raise` statement, we can include a string argument that specifies the text of the error message. For example:\n",
    "\n",
    "   ```python\n",
    "   raise ValueError('Invalid value')\n",
    "   ```\n",
    "\n",
    "   In this example, we raise a `ValueError` exception with the error message \"Invalid value\".\n",
    "\n",
    "2. Defining a custom exception class with a message attribute: Another way to specify the text of an exception object's error message is to define a custom exception class with a message attribute. For example:\n",
    "\n",
    "   ```python\n",
    "   class MyException(Exception):\n",
    "       def __init__(self, message):\n",
    "           super().__init__(message)\n",
    "           self.message = message\n",
    "\n",
    "   raise MyException('An error occurred')\n",
    "   ```\n",
    "\n",
    "   In this example, we define a custom exception class `MyException` with a `message` attribute. We then raise an instance of this class with the error message \"An error occurred\"."
   ]
  },
  {
   "cell_type": "code",
   "execution_count": 1,
   "id": "3511f19a",
   "metadata": {},
   "outputs": [
    {
     "ename": "MyException",
     "evalue": "An error occurred",
     "output_type": "error",
     "traceback": [
      "\u001b[1;31m---------------------------------------------------------------------------\u001b[0m",
      "\u001b[1;31mMyException\u001b[0m                               Traceback (most recent call last)",
      "Cell \u001b[1;32mIn[1], line 6\u001b[0m\n\u001b[0;32m      3\u001b[0m            \u001b[38;5;28msuper\u001b[39m()\u001b[38;5;241m.\u001b[39m\u001b[38;5;21m__init__\u001b[39m(message)\n\u001b[0;32m      4\u001b[0m            \u001b[38;5;28mself\u001b[39m\u001b[38;5;241m.\u001b[39mmessage \u001b[38;5;241m=\u001b[39m message\n\u001b[1;32m----> 6\u001b[0m \u001b[38;5;28;01mraise\u001b[39;00m MyException(\u001b[38;5;124m'\u001b[39m\u001b[38;5;124mAn error occurred\u001b[39m\u001b[38;5;124m'\u001b[39m)\n",
      "\u001b[1;31mMyException\u001b[0m: An error occurred"
     ]
    }
   ],
   "source": [
    "class MyException(Exception):\n",
    "       def __init__(self, message):\n",
    "           super().__init__(message)\n",
    "           self.message = message\n",
    "\n",
    "raise MyException('An error occurred')"
   ]
  },
  {
   "cell_type": "markdown",
   "id": "e67624af",
   "metadata": {},
   "source": []
  },
  {
   "cell_type": "markdown",
   "id": "f1dcc3ac",
   "metadata": {},
   "source": [
    "### Q10. Why do you no longer use string-based exceptions?"
   ]
  },
  {
   "cell_type": "markdown",
   "id": "52f4d1a6",
   "metadata": {},
   "source": [
    "In Python, string-based exceptions have been deprecated since version 2.6 and are no longer used in Python 3. The reason for this is that string-based exceptions do not provide enough information to help with debugging and troubleshooting.\n",
    "\n",
    "String-based exceptions only provide a simple message string as the error message, which may not provide enough information about what caused the exception or how to fix it. On the other hand, class-based exceptions can include additional information, such as attributes, methods, and other data, that can help with troubleshooting and debugging.\n",
    "\n",
    "In addition, class-based exceptions can be organized into a hierarchy of related exceptions, making it easier to handle and respond to specific types of exceptions in a more precise and controlled manner.\n",
    "\n",
    "Therefore, it is recommended to use class-based exceptions in Python instead of string-based exceptions."
   ]
  },
  {
   "cell_type": "markdown",
   "id": "fe023eb8",
   "metadata": {},
   "source": []
  }
 ],
 "metadata": {
  "kernelspec": {
   "display_name": "Python 3 (ipykernel)",
   "language": "python",
   "name": "python3"
  },
  "language_info": {
   "codemirror_mode": {
    "name": "ipython",
    "version": 3
   },
   "file_extension": ".py",
   "mimetype": "text/x-python",
   "name": "python",
   "nbconvert_exporter": "python",
   "pygments_lexer": "ipython3",
   "version": "3.10.9"
  }
 },
 "nbformat": 4,
 "nbformat_minor": 5
}
