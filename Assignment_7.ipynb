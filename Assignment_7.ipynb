{
 "cells": [
  {
   "cell_type": "markdown",
   "id": "a70e4172",
   "metadata": {},
   "source": [
    "Q1. What is the purpose of the try statement?"
   ]
  },
  {
   "cell_type": "markdown",
   "id": "12f70c8e",
   "metadata": {},
   "source": [
    "The try statement allows us to define a block of code to be tested for errors while it is being executed. So inside try block we write a code for which we want to check for errors."
   ]
  },
  {
   "cell_type": "code",
   "execution_count": null,
   "id": "3fe4ecbe",
   "metadata": {},
   "outputs": [],
   "source": []
  },
  {
   "cell_type": "markdown",
   "id": "94817968",
   "metadata": {},
   "source": [
    "Q2. What are the two most popular try statement variations?"
   ]
  },
  {
   "cell_type": "markdown",
   "id": "b37af1ee",
   "metadata": {},
   "source": [
    "- There are two other optional segments to a try block ie. else and finally .\n",
    "- Both of these optional blocks will come after the try and the except ."
   ]
  },
  {
   "cell_type": "code",
   "execution_count": null,
   "id": "b5e660c8",
   "metadata": {},
   "outputs": [],
   "source": []
  },
  {
   "cell_type": "markdown",
   "id": "c64631ce",
   "metadata": {},
   "source": [
    "Q3. What is the purpose of the raise statement?"
   ]
  },
  {
   "cell_type": "markdown",
   "id": "5da2390e",
   "metadata": {},
   "source": [
    "The raise keyword raises a specific exception when a condition is met or the code encounters an error. The exception raised by the program may either be an exception instance or an exception class. When you use the raise keyword, you can define what kind of error should be raised for a particular exception."
   ]
  },
  {
   "cell_type": "code",
   "execution_count": null,
   "id": "b7d87c3f",
   "metadata": {},
   "outputs": [],
   "source": []
  },
  {
   "cell_type": "markdown",
   "id": "42242547",
   "metadata": {},
   "source": [
    "Q4. What does the assert statement do, and what other statement is it like?"
   ]
  },
  {
   "cell_type": "markdown",
   "id": "45b08afe",
   "metadata": {},
   "source": [
    "- The assert keyword is used when debugging code. \n",
    "- The assert keyword lets you test if a condition in your code returns True, if not, the program will raise an AssertionError. \n",
    "- You can write a message to be written if the code returns False\n",
    "- Assert statement is used as debugging tool as it halts the program at the point where an error occurs.\n",
    "- Assert statement is like raising an exception."
   ]
  },
  {
   "cell_type": "code",
   "execution_count": null,
   "id": "32722c3a",
   "metadata": {},
   "outputs": [],
   "source": []
  },
  {
   "cell_type": "markdown",
   "id": "7c282e5c",
   "metadata": {},
   "source": [
    "Q5. What is the purpose of the with/as argument, and what other statement is it like?"
   ]
  },
  {
   "cell_type": "markdown",
   "id": "58748586",
   "metadata": {},
   "source": [
    " - The with statement is a replacement for commonly used try/finally error-handling statements. A common example of using the with statement is opening a file. To open and write to a file in Python, you can use the with statement. The with statement automatically closes the file after you’ve completed writing it.\n",
    " \n",
    " - The with statement replaces a try-catch block with a concise shorthand. More importantly, it ensures closing resources right after processing them. A common example of using the with statement is reading or writing to a file."
   ]
  }
 ],
 "metadata": {
  "kernelspec": {
   "display_name": "Python 3 (ipykernel)",
   "language": "python",
   "name": "python3"
  },
  "language_info": {
   "codemirror_mode": {
    "name": "ipython",
    "version": 3
   },
   "file_extension": ".py",
   "mimetype": "text/x-python",
   "name": "python",
   "nbconvert_exporter": "python",
   "pygments_lexer": "ipython3",
   "version": "3.9.12"
  }
 },
 "nbformat": 4,
 "nbformat_minor": 5
}
