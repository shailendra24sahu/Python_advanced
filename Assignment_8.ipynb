{
 "cells": [
  {
   "cell_type": "markdown",
   "id": "c2b861d8",
   "metadata": {},
   "source": [
    "Q1. What are the two latest user-defined exception constraints in Python 3.X?"
   ]
  },
  {
   "cell_type": "markdown",
   "id": "cf40c6ea",
   "metadata": {},
   "source": [
    "In Python 3.x, there are two latest user-defined exception constraints:\n",
    "\n",
    "1. The exception class must be derived from the built-in `Exception` class: When defining a custom exception class, it is important to ensure that it is derived from the built-in `Exception` class. This is because all exceptions in Python are subclasses of `Exception`, so by deriving our custom exception from `Exception`, we ensure that it can be caught and handled in the same way as built-in exceptions.\n",
    "\n",
    "2. The exception class should have a meaningful name: When defining a custom exception class, it is important to give it a name that clearly indicates what type of error it represents. This makes it easier to understand the purpose of the exception when it is raised and caught in the code. A good convention to follow is to end the name of the exception class with the word \"Error\", such as `ValueError` or `TypeError`.\n",
    "\n",
    "Here is an example of a custom exception class that follows these constraints:\n",
    "\n",
    "```python\n",
    "class InvalidInputError(Exception):\n",
    "    pass\n",
    "```"
   ]
  },
  {
   "cell_type": "code",
   "execution_count": null,
   "id": "ca734b21",
   "metadata": {},
   "outputs": [],
   "source": []
  },
  {
   "cell_type": "markdown",
   "id": "234c0bb5",
   "metadata": {},
   "source": [
    "Q2. How are class-based exceptions that have been raised matched to handlers?"
   ]
  },
  {
   "cell_type": "markdown",
   "id": "8f6633b6",
   "metadata": {},
   "source": [
    "When a class-based exception is raised in Python, the interpreter searches for an appropriate exception handler to handle the exception. The search for a matching handler proceeds as follows:\n",
    "\n",
    "1. The interpreter looks for an exception handler that explicitly matches the type of the raised exception. If a handler with an exact match is found, it is executed.\n",
    "\n",
    "2. If no exact match is found, the interpreter looks for a handler that matches a superclass of the raised exception. This allows us to catch a broader range of exceptions with a single handler.\n",
    "\n",
    "3. If no matching handler is found at all, the exception propagates up the call stack until it reaches the top level of the program, where it is either handled by a default exception handler or causes the program to terminate with an error message.\n",
    "\n",
    "Here is an example that demonstrates how class-based exceptions are matched to handlers:\n",
    "\n",
    "```python\n",
    "class CustomError(Exception):\n",
    "    pass\n",
    "\n",
    "try:\n",
    "    # Some code that might raise CustomError\n",
    "    raise CustomError(\"Something went wrong\")\n",
    "except CustomError as e:\n",
    "    # Handle CustomError\n",
    "    print(\"CustomError occurred:\", e)\n",
    "except Exception as e:\n",
    "    # Handle all other exceptions\n",
    "    print(\"An error occurred:\", e)\n",
    "```\n",
    "\n",
    "In this example, if the code inside the `try` block raises a `CustomError` exception, the interpreter searches for a matching handler. Since we have defined a `except CustomError` handler, this handler is executed and the program continues to run. If the code inside the `try` block raises a different type of exception, such as `ValueError`, the interpreter looks for a matching handler and finds the `except Exception` handler, which handles all other types of exceptions."
   ]
  },
  {
   "cell_type": "code",
   "execution_count": null,
   "id": "cc4f8077",
   "metadata": {},
   "outputs": [],
   "source": []
  },
  {
   "cell_type": "markdown",
   "id": "011b19fc",
   "metadata": {},
   "source": [
    "Q3. Describe two methods for attaching context information to exception artefacts."
   ]
  },
  {
   "cell_type": "markdown",
   "id": "6375006a",
   "metadata": {},
   "source": [
    "The two common methods for attaching context information to exception artifacts:\n",
    "\n",
    "1. Using the `with_traceback()` method: This method allows to attach a traceback to an exception object. The `traceback` argument should be a traceback object or `None`. If it is `None`, the traceback is extracted from the current stack frame. Here's an example:\n",
    "\n",
    "   ```python\n",
    "   try:\n",
    "       # some code that might raise an exception\n",
    "       pass\n",
    "   except Exception as e:\n",
    "       tb = e.__traceback__\n",
    "       # attach some context information to the traceback\n",
    "       tb = tb.with_traceback(tb, filename='example.py', line=42)\n",
    "       raise e.with_traceback(tb)\n",
    "   ```\n",
    "\n",
    "   In this example, we catch an exception and obtain its traceback using the `__traceback__` attribute. We then attach some context information to the traceback using the `with_traceback()` method and re-raise the exception with the modified traceback.\n",
    "\n",
    "2. Using a custom exception class: Another way to attach context information to an exception is to define a custom exception class that includes attributes to store the context information. Here's an example:\n",
    "\n",
    "   ```python\n",
    "   class MyException(Exception):\n",
    "       def __init__(self, message, context):\n",
    "           super().__init__(message)\n",
    "           self.context = context\n",
    "\n",
    "   try:\n",
    "       # some code that might raise an exception\n",
    "       pass\n",
    "   except Exception as e:\n",
    "       # attach some context information to the exception\n",
    "       context = {'filename': 'example.py', 'line': 42}\n",
    "       raise MyException(str(e), context)\n",
    "   ```\n",
    "\n",
    "   In this example, we define a custom exception class `MyException` that takes a `message` and a `context` argument. We then catch an exception, attach some context information to it, and raise a new instance of `MyException` with the modified message and context information.\n",
    "\n",
    "By attaching context information to exception artifacts in these ways, we can provide more useful error messages and make it easier to debug problems in code."
   ]
  },
  {
   "cell_type": "code",
   "execution_count": null,
   "id": "b7e876a4",
   "metadata": {},
   "outputs": [],
   "source": []
  },
  {
   "cell_type": "markdown",
   "id": "0522a381",
   "metadata": {},
   "source": [
    "Q4. Describe two methods for specifying the text of an exception object&#39;s error message."
   ]
  },
  {
   "cell_type": "markdown",
   "id": "09c3617d",
   "metadata": {},
   "source": [
    "Two common methods for specifying the text of an exception object's error message:\n",
    "\n",
    "1. Using the `raise` statement with an exception class and a string argument: When we raise an exception using the `raise` statement, we can include a string argument that specifies the text of the error message. For example:\n",
    "\n",
    "   ```python\n",
    "   raise ValueError('Invalid value')\n",
    "   ```\n",
    "\n",
    "   In this example, we raise a `ValueError` exception with the error message \"Invalid value\".\n",
    "\n",
    "2. Defining a custom exception class with a message attribute: Another way to specify the text of an exception object's error message is to define a custom exception class with a message attribute. For example:\n",
    "\n",
    "   ```python\n",
    "   class MyException(Exception):\n",
    "       def __init__(self, message):\n",
    "           super().__init__(message)\n",
    "           self.message = message\n",
    "\n",
    "   raise MyException('An error occurred')\n",
    "   ```\n",
    "\n",
    "   In this example, we define a custom exception class `MyException` with a `message` attribute. We then raise an instance of this class with the error message \"An error occurred\"."
   ]
  },
  {
   "cell_type": "code",
   "execution_count": null,
   "id": "cf589b22",
   "metadata": {},
   "outputs": [],
   "source": []
  },
  {
   "cell_type": "markdown",
   "id": "1e2123c6",
   "metadata": {},
   "source": [
    "Q5. Why do you no longer use string-based exceptions?"
   ]
  },
  {
   "cell_type": "markdown",
   "id": "fc8cb610",
   "metadata": {},
   "source": [
    "In Python, string-based exceptions have been deprecated since version 2.6 and are no longer used in Python 3. The reason for this is that string-based exceptions do not provide enough information to help with debugging and troubleshooting.\n",
    "\n",
    "String-based exceptions only provide a simple message string as the error message, which may not provide enough information about what caused the exception or how to fix it. On the other hand, class-based exceptions can include additional information, such as attributes, methods, and other data, that can help with troubleshooting and debugging.\n",
    "\n",
    "In addition, class-based exceptions can be organized into a hierarchy of related exceptions, making it easier to handle and respond to specific types of exceptions in a more precise and controlled manner.\n",
    "\n",
    "Therefore, it is recommended to use class-based exceptions in Python instead of string-based exceptions."
   ]
  }
 ],
 "metadata": {
  "kernelspec": {
   "display_name": "Python 3 (ipykernel)",
   "language": "python",
   "name": "python3"
  },
  "language_info": {
   "codemirror_mode": {
    "name": "ipython",
    "version": 3
   },
   "file_extension": ".py",
   "mimetype": "text/x-python",
   "name": "python",
   "nbconvert_exporter": "python",
   "pygments_lexer": "ipython3",
   "version": "3.9.12"
  }
 },
 "nbformat": 4,
 "nbformat_minor": 5
}
