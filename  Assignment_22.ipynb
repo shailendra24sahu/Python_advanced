{
 "cells": [
  {
   "cell_type": "markdown",
   "id": "8c516274",
   "metadata": {},
   "source": [
    "Q1. What are the benefits of the built-in array package, if any?"
   ]
  },
  {
   "cell_type": "markdown",
   "id": "5e8c2d8e",
   "metadata": {},
   "source": [
    "In Python, the built-in array package refers to the `array` module, which provides an array object that is more efficient than regular lists for certain types of operations. Here are the benefits of using the `array` package in Python:\n",
    "\n",
    "1. Efficient memory usage: The `array` module allows us to create arrays of primitive data types (e.g., integers, floats) that are stored more compactly in memory compared to regular lists. This can be beneficial when working with large datasets or in scenarios where memory usage is a concern.\n",
    "\n",
    "2. Fast element access: Similar to regular lists, arrays in Python support random access to elements, allowing us to retrieve and modify specific elements by their index. This makes arrays suitable for scenarios where frequent element access is required.\n",
    "\n",
    "3. Performance optimizations: The `array` module is implemented in C and provides optimized routines for common array operations, such as element access, slicing, and concatenation. These optimizations can result in improved performance compared to regular lists, especially when working with large arrays.\n",
    "\n",
    "4. Interoperability with low-level code: Arrays created using the `array` module can be easily passed between Python and low-level languages, such as C or Fortran, due to their memory layout. This makes it convenient to integrate high-performance code written in other languages with Python.\n",
    "\n",
    "5. Type restrictions for data integrity: The `array` module enforces a strict type restriction for elements in an array. This ensures that only elements of a specific data type can be stored in the array, providing data integrity and preventing potential errors from mixing incompatible types.\n",
    "\n",
    "It's worth noting that the `array` module is not as versatile as other data structures like lists or NumPy arrays, as it has limitations in terms of available operations and functionality. However, in specific use cases where memory efficiency and performance are crucial, the `array` package can offer benefits over regular lists in Python."
   ]
  },
  {
   "cell_type": "code",
   "execution_count": null,
   "id": "f872e7a7",
   "metadata": {},
   "outputs": [],
   "source": []
  },
  {
   "cell_type": "markdown",
   "id": "b575c645",
   "metadata": {},
   "source": [
    "Q2. What are some of the array package&#39;s limitations?"
   ]
  },
  {
   "cell_type": "markdown",
   "id": "c95b9160",
   "metadata": {},
   "source": [
    "These are some of the array package's limitations:\n",
    "\n",
    "1. Fixed size: Arrays created using the `array` module have a fixed size, meaning that the length of the array cannot be changed once it is created. If we need to dynamically resize the array, we would need to create a new array with the desired size and copy the elements from the old array to the new one, which can be inefficient for large arrays.\n",
    "\n",
    "2. Limited functionality: The `array` module provides a basic set of operations and functionalities compared to other data structures like lists or NumPy arrays. For example, it lacks many of the built-in methods and functionalities available in lists, such as `append()`, `extend()`, and list comprehensions. This can make certain operations less convenient or require more manual handling.\n",
    "\n",
    "3. Single data type restriction: Arrays created with the `array` module can only store elements of a single data type. While this can provide data integrity, it restricts the flexibility to store multiple types of data within the same array. In contrast, lists in Python can hold elements of different types.\n",
    "\n",
    "4. Lack of advanced functionalities: The `array` module does not provide advanced functionalities like mathematical operations or broadcasting, which are available in libraries such as NumPy. If we require advanced array manipulation or numerical computations, using a library like NumPy would be more appropriate.\n",
    "\n",
    "5. Limited data analysis capabilities: The `array` module is not specifically designed for data analysis or scientific computing. If we're working on tasks that involve extensive numerical computations, statistical operations, or multidimensional arrays, other libraries like NumPy, Pandas, or SciPy provide more comprehensive functionality and optimized performance.\n",
    "\n",
    "Overall, while the `array` package in Python offers benefits for specific use cases, it may not be the most suitable choice for scenarios that require more advanced functionalities, dynamic resizing, or complex data manipulation. In such cases, utilizing libraries like NumPy or Pandas would be more appropriate."
   ]
  },
  {
   "cell_type": "code",
   "execution_count": null,
   "id": "64cc1962",
   "metadata": {},
   "outputs": [],
   "source": []
  },
  {
   "cell_type": "markdown",
   "id": "2ef1180a",
   "metadata": {},
   "source": [
    "Q3. Describe the main differences between the array and numpy packages."
   ]
  },
  {
   "cell_type": "markdown",
   "id": "6e662bae",
   "metadata": {},
   "source": [
    "The `array` package and the `numpy` package are both used in Python for working with arrays, but they have some key differences in terms of functionality and performance. Here are the main differences between the two:\n",
    "\n",
    "1. Functionality: NumPy offers a wide range of functionalities for array manipulation, mathematical operations, linear algebra, and numerical computations. It provides a comprehensive set of functions and methods optimized for array operations, making it a powerful tool for scientific computing and data analysis. On the other hand, the `array` package, part of the Python standard library, provides a basic array object with limited functionalities compared to NumPy.\n",
    "\n",
    "2. Performance: NumPy is known for its efficient and optimized implementation of array operations. It is built on top of C libraries, allowing for faster execution of numerical computations. NumPy arrays are homogeneous and stored in contiguous memory locations, enabling efficient element access and vectorized operations. The `array` package, while providing some memory efficiency benefits, does not offer the same level of performance optimization as NumPy.\n",
    "\n",
    "3. Advanced array operations: NumPy provides a rich set of advanced array operations, such as broadcasting, slicing, reshaping, and indexing, which allow for efficient manipulation and extraction of data from arrays. These operations make it easier to work with multidimensional arrays and perform complex computations. The `array` package has more limited functionality and lacks many of these advanced array operations.\n",
    "\n",
    "4. Ecosystem and integration: NumPy has a large ecosystem of scientific computing libraries built on top of it, such as Pandas, SciPy, and Matplotlib. This ecosystem provides additional functionalities and tools for data analysis, statistical operations, and visualization. The `array` package, being part of the standard library, does not have the same level of integration with these external libraries.\n",
    "\n",
    "5. Compatibility: The `array` package is part of the Python standard library, which means it is available by default in any Python installation without requiring additional dependencies. On the other hand, NumPy needs to be installed separately. However, due to its popularity and widespread use, NumPy is commonly included in many scientific computing environments and data analysis libraries.\n",
    "\n",
    "In summary, NumPy offers a more comprehensive and efficient array manipulation and numerical computation framework compared to the `array` package. It is widely used in scientific computing and data analysis due to its advanced functionality, performance optimizations, and integration with other libraries."
   ]
  },
  {
   "cell_type": "code",
   "execution_count": null,
   "id": "bf34720a",
   "metadata": {},
   "outputs": [],
   "source": []
  },
  {
   "cell_type": "markdown",
   "id": "5e60886c",
   "metadata": {},
   "source": [
    "Q4. Explain the distinctions between the empty, ones, and zeros functions."
   ]
  },
  {
   "cell_type": "markdown",
   "id": "e88234d1",
   "metadata": {},
   "source": [
    "In the context of array creation, the empty, ones, and zeros functions are commonly used in Python, particularly in libraries like NumPy. Here are the distinctions between these functions:\n",
    "\n",
    "1. empty: The empty function creates a new array without initializing its elements to any particular value. It allocates the memory for the array but does not set the values of its elements. The initial values of the array elements can be arbitrary and depend on the state of the memory at the time of allocation. This function is useful when we need to create an array quickly and intend to assign values to its elements later on.\n",
    "Example usage:"
   ]
  },
  {
   "cell_type": "code",
   "execution_count": 1,
   "id": "07fdffe8",
   "metadata": {},
   "outputs": [
    {
     "name": "stdout",
     "output_type": "stream",
     "text": [
      "[[0.00000000e+000 0.00000000e+000 0.00000000e+000]\n",
      " [0.00000000e+000 0.00000000e+000 6.14617663e-321]\n",
      " [8.45593933e-307 7.56593016e-307 9.34609110e-307]]\n"
     ]
    }
   ],
   "source": [
    "import numpy as np\n",
    "\n",
    "arr = np.empty((3, 3))\n",
    "print(arr)"
   ]
  },
  {
   "cell_type": "markdown",
   "id": "e3e87154",
   "metadata": {},
   "source": [
    "2. ones: The ones function creates a new array and initializes all its elements to the value 1. It takes the desired shape of the array as an argument and returns an array filled with ones of the specified shape. This function is often used when we need to create an array with all elements set to a specific value, such as in initialization or mathematical computations.\n",
    "Example usage:"
   ]
  },
  {
   "cell_type": "code",
   "execution_count": 2,
   "id": "43de205d",
   "metadata": {},
   "outputs": [
    {
     "name": "stdout",
     "output_type": "stream",
     "text": [
      "[[1. 1.]\n",
      " [1. 1.]]\n"
     ]
    }
   ],
   "source": [
    "import numpy as np\n",
    "\n",
    "arr = np.ones((2, 2))\n",
    "print(arr)"
   ]
  },
  {
   "cell_type": "markdown",
   "id": "1b743273",
   "metadata": {},
   "source": [
    "3. zeros: The zeros function is similar to ones, but it initializes all the elements of the array to the value 0 instead of 1. It also takes the desired shape of the array as an argument and returns an array filled with zeros of the specified shape. This function is commonly used when we need to create an array with all elements set to zero, such as in initialization or for storing new data."
   ]
  },
  {
   "cell_type": "code",
   "execution_count": 3,
   "id": "9ac8a98d",
   "metadata": {},
   "outputs": [
    {
     "name": "stdout",
     "output_type": "stream",
     "text": [
      "[[0. 0. 0.]\n",
      " [0. 0. 0.]\n",
      " [0. 0. 0.]]\n"
     ]
    }
   ],
   "source": [
    "import numpy as np\n",
    "\n",
    "arr = np.zeros((3, 3))\n",
    "print(arr)"
   ]
  },
  {
   "cell_type": "markdown",
   "id": "cc5b5c62",
   "metadata": {},
   "source": [
    "In summary, the empty function creates an array without initializing its elements, ones initializes the array elements to 1, and zeros initializes them to 0. These functions are helpful for quickly creating arrays of desired shapes with specific initial values."
   ]
  },
  {
   "cell_type": "code",
   "execution_count": null,
   "id": "81a60d16",
   "metadata": {},
   "outputs": [],
   "source": []
  },
  {
   "cell_type": "markdown",
   "id": "c5ba8a90",
   "metadata": {},
   "source": [
    "Q5. In the fromfunction function, which is used to construct new arrays, what is the role of the callable\n",
    "argument?"
   ]
  },
  {
   "cell_type": "markdown",
   "id": "bef3a4e5",
   "metadata": {},
   "source": [
    "In the fromfunction function, which is available in libraries like NumPy, the callable argument refers to a function or callable object that is used to generate the values for the new array being constructed. This callable is responsible for defining the relationship between the indices of the array and the corresponding values to be placed in those indices.\n",
    "\n",
    "Here is the general syntax of the fromfunction function:\n",
    "\n",
    "```python\n",
    "\n",
    "       numpy.fromfunction(function, shape, **kwargs)\n",
    "```\n",
    "The function parameter represents the callable object that will be called with each index tuple of the constructed array. It should accept multiple arguments, each representing the indices along each dimension of the array, and return the corresponding value for that index.\n",
    "\n",
    "For example, let's say we want to create a 3x3 array where each element is the sum of its row and column indices. We can achieve this using the fromfunction function with a custom callable:"
   ]
  },
  {
   "cell_type": "code",
   "execution_count": 5,
   "id": "729b739b",
   "metadata": {},
   "outputs": [
    {
     "name": "stdout",
     "output_type": "stream",
     "text": [
      "[[0. 1. 2.]\n",
      " [1. 2. 3.]\n",
      " [2. 3. 4.]]\n"
     ]
    }
   ],
   "source": [
    "import numpy as np\n",
    "\n",
    "def sum_indices(i, j):\n",
    "    return i + j\n",
    "\n",
    "arr = np.fromfunction(sum_indices, (3, 3))\n",
    "print(arr)"
   ]
  },
  {
   "cell_type": "markdown",
   "id": "a54f5649",
   "metadata": {},
   "source": [
    "In this example, the sum_indices function takes two arguments i and j, representing the row and column indices, respectively. It simply returns the sum of i and j. The fromfunction function calls this sum_indices function with appropriate indices to construct the array.\n",
    "\n",
    "By providing a custom callable as the function argument in fromfunction, we have the flexibility to define complex relationships between the indices and the values of the resulting array. This allows us to generate arrays based on custom mathematical or logical operations."
   ]
  },
  {
   "cell_type": "code",
   "execution_count": null,
   "id": "d1cbf78c",
   "metadata": {},
   "outputs": [],
   "source": []
  },
  {
   "cell_type": "markdown",
   "id": "31937589",
   "metadata": {},
   "source": [
    "Q6. What happens when a numpy array is combined with a single-value operand (a scalar, such as\n",
    "an int or a floating-point value) through addition, as in the expression A + n?"
   ]
  },
  {
   "cell_type": "markdown",
   "id": "4830febd",
   "metadata": {},
   "source": [
    "\n",
    "When a NumPy array is combined with a single-value operand (a scalar) through addition, the scalar value is broadcasted to match the shape of the array, and then element-wise addition is performed. This operation is often referred to as scalar addition or broadcasting.\n",
    "\n",
    "The scalar value is added to each element of the array, resulting in a new array with the same shape as the original array. The addition is applied element-wise, meaning each element in the array is individually added with the scalar value.\n",
    "\n",
    "Here's an example to illustrate this behavior:"
   ]
  },
  {
   "cell_type": "code",
   "execution_count": 6,
   "id": "e1dcc99a",
   "metadata": {},
   "outputs": [
    {
     "name": "stdout",
     "output_type": "stream",
     "text": [
      "[6 7 8]\n"
     ]
    }
   ],
   "source": [
    "import numpy as np\n",
    "\n",
    "A = np.array([1, 2, 3])\n",
    "n = 5\n",
    "\n",
    "result = A + n\n",
    "\n",
    "print(result)"
   ]
  },
  {
   "cell_type": "markdown",
   "id": "4e7f64a6",
   "metadata": {},
   "source": [
    "This broadcasting and element-wise addition operation is a fundamental feature of NumPy that allows for efficient and concise vectorized operations on arrays. It simplifies the syntax and avoids the need for explicit loops when performing arithmetic operations between arrays and scalars."
   ]
  },
  {
   "cell_type": "code",
   "execution_count": null,
   "id": "5b6c20b9",
   "metadata": {},
   "outputs": [],
   "source": []
  },
  {
   "cell_type": "markdown",
   "id": "8e889389",
   "metadata": {},
   "source": [
    "Q7. Can array-to-scalar operations use combined operation-assign operators (such as += or *=)?\n",
    "What is the outcome?"
   ]
  },
  {
   "cell_type": "markdown",
   "id": "5849aa85",
   "metadata": {},
   "source": [
    "No, array-to-scalar operations cannot use combined operation-assign operators such as `+=` or `*=`. These operators are designed for in-place modification of an array or variable by combining the existing value with the right-hand side operand.\n",
    "\n",
    "When using combined operation-assign operators, the operation is performed in-place, modifying the existing array or variable. However, when performing an array-to-scalar operation, the resulting array would have a different shape and type than the scalar operand, which is not compatible with the in-place modification.\n",
    "\n",
    "For example, consider the following code:\n",
    "\n",
    "```python\n",
    "import numpy as np\n",
    "\n",
    "A = np.array([1, 2, 3])\n",
    "n = 5\n",
    "\n",
    "A += n\n",
    "```\n",
    "\n",
    "This code would raise a `TypeError` because the `+=` operator is not supported for array-to-scalar operations. The reason is that `A` is an array, while `n` is a scalar. The result of the addition operation (`A + n`) would be a new array with a different shape and type than `A`, which cannot be directly assigned back to `A` in-place.\n",
    "\n",
    "To perform the desired operation, you can use the regular assignment operator (`=`) along with the array-to-scalar operation:\n",
    "\n",
    "```python\n",
    "import numpy as np\n",
    "\n",
    "A = np.array([1, 2, 3])\n",
    "n = 5\n",
    "\n",
    "A = A + n\n",
    "```\n",
    "\n",
    "In this case, the addition operation (`A + n`) creates a new array resulting from the addition of each element of `A` with the scalar `n`. The assignment operator (`=`) then assigns this new array back to `A`, effectively updating the value of `A` with the desired result."
   ]
  },
  {
   "cell_type": "code",
   "execution_count": null,
   "id": "67162710",
   "metadata": {},
   "outputs": [],
   "source": []
  },
  {
   "cell_type": "markdown",
   "id": "924d4701",
   "metadata": {},
   "source": [
    "Q8. Does a numpy array contain fixed-length strings? What happens if you allocate a longer string to\n",
    "one of these arrays?"
   ]
  },
  {
   "cell_type": "markdown",
   "id": "c40bec88",
   "metadata": {},
   "source": [
    "Yes, a NumPy array can contain fixed-length strings using the dtype parameter. we can specify a fixed-length string type by using dtype='S' followed by the desired length of the string.\n",
    "\n",
    "If we allocate a longer string to an array with fixed-length strings, NumPy will truncate the string to fit within the specified length. No error or warning will be raised.\n",
    "\n",
    "Here's an example to demonstrate this behavior:"
   ]
  },
  {
   "cell_type": "code",
   "execution_count": 8,
   "id": "6cb345ab",
   "metadata": {},
   "outputs": [
    {
     "name": "stdout",
     "output_type": "stream",
     "text": [
      "Original array: [b'apple' b'banan' b'cherr' b'abc']\n",
      "Modified array: [b'apple' b'grape' b'cherr' b'abc']\n"
     ]
    }
   ],
   "source": [
    "import numpy as np\n",
    "\n",
    "# Create a NumPy array with fixed-length strings of length 5\n",
    "arr = np.array(['apple', 'banana', 'cherry','abc'], dtype='S5')\n",
    "\n",
    "print(\"Original array:\", arr)\n",
    "\n",
    "# Assign a longer string to one of the array elements\n",
    "arr[1] = 'grapefruit'\n",
    "\n",
    "print(\"Modified array:\", arr)"
   ]
  },
  {
   "cell_type": "markdown",
   "id": "c0735f06",
   "metadata": {},
   "source": [
    "It's important to note that when working with fixed-length strings in NumPy arrays, if we assign a string that is shorter than the specified length, it will be padded with null bytes ('\\x00') to fill the remaining space."
   ]
  },
  {
   "cell_type": "code",
   "execution_count": null,
   "id": "6bc05b15",
   "metadata": {},
   "outputs": [],
   "source": []
  },
  {
   "cell_type": "markdown",
   "id": "b668ea04",
   "metadata": {},
   "source": [
    "Q9. What happens when you combine two numpy arrays using an operation like addition (+) or\n",
    "multiplication (*)? What are the conditions for combining two numpy arrays?"
   ]
  },
  {
   "cell_type": "markdown",
   "id": "090fa925",
   "metadata": {},
   "source": [
    "\n",
    "When two NumPy arrays are combined using an operation like addition (+) or multiplication (*), the operation is performed element-wise on the arrays, as long as their shapes are compatible for broadcasting.\n",
    "\n",
    "The conditions for combining two NumPy arrays are as follows:\n",
    "\n",
    "The arrays must have the same shape, or be broadcastable to the same shape.\n",
    "The arrays must have compatible data types, or one of the arrays can be converted to the data type of the other array.\n",
    "For arithmetic operations, both arrays must have the same number of dimensions.\n",
    "Here's an example to illustrate combining two NumPy arrays using addition:"
   ]
  },
  {
   "cell_type": "code",
   "execution_count": 10,
   "id": "8833e8b2",
   "metadata": {},
   "outputs": [
    {
     "name": "stdout",
     "output_type": "stream",
     "text": [
      "Array A: [1 2 3]\n",
      "Array B: [4 5 6]\n",
      "Array C: [5 7 9]\n",
      "Array D: [ 4 10 18]\n"
     ]
    }
   ],
   "source": [
    "import numpy as np\n",
    "\n",
    "# Create two NumPy arrays\n",
    "A = np.array([1, 2, 3])\n",
    "B = np.array([4, 5, 6])\n",
    "\n",
    "# Add the arrays element-wise\n",
    "C = A + B\n",
    "# multiply the arrays element-wise\n",
    "D = A * B\n",
    "\n",
    "print(\"Array A:\", A)\n",
    "print(\"Array B:\", B)\n",
    "print(\"Array C:\", C)\n",
    "print(\"Array D:\", D)"
   ]
  },
  {
   "cell_type": "markdown",
   "id": "25cce557",
   "metadata": {},
   "source": [
    "Similarly, two NumPy arrays can be combined using multiplication (*) or other arithmetic operations, as long as the conditions mentioned above are met."
   ]
  },
  {
   "cell_type": "code",
   "execution_count": null,
   "id": "bb3d046c",
   "metadata": {},
   "outputs": [],
   "source": []
  },
  {
   "cell_type": "markdown",
   "id": "f8807a7a",
   "metadata": {},
   "source": [
    "Q10. What is the best way to use a Boolean array to mask another array?"
   ]
  },
  {
   "cell_type": "markdown",
   "id": "684e09b8",
   "metadata": {},
   "source": [
    "\n",
    "The best way to use a Boolean array to mask another array in NumPy is to use boolean indexing. Boolean indexing allows us to select elements from an array based on a Boolean condition.\n",
    "\n",
    "Here's an example to illustrate how to use Boolean indexing to mask another array:"
   ]
  },
  {
   "cell_type": "code",
   "execution_count": 11,
   "id": "e4af5dd6",
   "metadata": {},
   "outputs": [
    {
     "name": "stdout",
     "output_type": "stream",
     "text": [
      "Original array: [1 2 3 4 5]\n",
      "Boolean mask: [False False  True  True  True]\n",
      "Masked array: [3 4 5]\n"
     ]
    }
   ],
   "source": [
    "import numpy as np\n",
    "\n",
    "# Create a NumPy array\n",
    "arr = np.array([1, 2, 3, 4, 5])\n",
    "\n",
    "# Create a Boolean array based on a condition\n",
    "mask = arr > 2\n",
    "\n",
    "# Use Boolean indexing to mask the original array\n",
    "masked_arr = arr[mask]\n",
    "\n",
    "print(\"Original array:\", arr)\n",
    "print(\"Boolean mask:\", mask)\n",
    "print(\"Masked array:\", masked_arr)"
   ]
  },
  {
   "cell_type": "code",
   "execution_count": null,
   "id": "a83da963",
   "metadata": {},
   "outputs": [],
   "source": []
  },
  {
   "cell_type": "markdown",
   "id": "571e9b12",
   "metadata": {},
   "source": [
    "Q11. What are three different ways to get the standard deviation of a wide collection of data using\n",
    "both standard Python and its packages? Sort the three of them by how quickly they execute."
   ]
  },
  {
   "cell_type": "markdown",
   "id": "20a944bc",
   "metadata": {},
   "source": [
    "Here are three different ways to calculate the standard deviation of a wide collection of data using both standard Python and its packages, sorted by how quickly they execute (from fastest to slowest):\n",
    "\n",
    "1. NumPy: The numpy package provides a built-in function numpy.std() that can be used to calculate the standard deviation of a NumPy array. This function is very fast and efficient, and is the recommended method for calculating the standard deviation in NumPy."
   ]
  },
  {
   "cell_type": "code",
   "execution_count": 12,
   "id": "dacfb474",
   "metadata": {},
   "outputs": [
    {
     "name": "stdout",
     "output_type": "stream",
     "text": [
      "Standard deviation using NumPy: 1.4142135623730951\n"
     ]
    }
   ],
   "source": [
    "import numpy as np\n",
    "\n",
    "data = np.array([1, 2, 3, 4, 5])\n",
    "\n",
    "# Calculate the standard deviation using numpy\n",
    "std_dev = np.std(data)\n",
    "\n",
    "print(\"Standard deviation using NumPy:\", std_dev)"
   ]
  },
  {
   "cell_type": "markdown",
   "id": "bcf37193",
   "metadata": {},
   "source": [
    "2. Pandas: The pandas package provides a built-in method pandas.DataFrame.std() that can be used to calculate the standard deviation of a Pandas DataFrame. This method is slightly slower than NumPy but is still quite fast and efficient."
   ]
  },
  {
   "cell_type": "code",
   "execution_count": 15,
   "id": "32f97db5",
   "metadata": {},
   "outputs": [
    {
     "name": "stdout",
     "output_type": "stream",
     "text": [
      "Standard deviation using Pandas: \n",
      " col1    1.581139\n",
      "col2    1.581139\n",
      "dtype: float64\n"
     ]
    }
   ],
   "source": [
    "import pandas as pd\n",
    "\n",
    "# Create a Pandas DataFrame\n",
    "data = pd.DataFrame({'col1': [1, 2, 3, 4, 5], 'col2': [6, 7, 8, 9, 10]})\n",
    "\n",
    "# Calculate the standard deviation using pandas\n",
    "std_dev = data.std()\n",
    "\n",
    "print(\"Standard deviation using Pandas:\",'\\n',std_dev)"
   ]
  },
  {
   "cell_type": "markdown",
   "id": "ea9526a8",
   "metadata": {},
   "source": [
    "3. Python statistics module: The standard Python statistics module provides a built-in function statistics.stdev() that can be used to calculate the standard deviation of a list or tuple of values. This method is generally slower than the NumPy and Pandas methods, but can be useful if we are working with standard Python data types."
   ]
  },
  {
   "cell_type": "code",
   "execution_count": 16,
   "id": "53803fbd",
   "metadata": {},
   "outputs": [
    {
     "name": "stdout",
     "output_type": "stream",
     "text": [
      "Standard deviation using the statistics module: 1.5811388300841898\n"
     ]
    }
   ],
   "source": [
    "import statistics\n",
    "\n",
    "# Create a list of values\n",
    "data = [1, 2, 3, 4, 5]\n",
    "\n",
    "# Calculate the standard deviation using the statistics module\n",
    "std_dev = statistics.stdev(data)\n",
    "\n",
    "print(\"Standard deviation using the statistics module:\", std_dev)"
   ]
  },
  {
   "cell_type": "markdown",
   "id": "ccfe3da2",
   "metadata": {},
   "source": [
    "Note that the execution speed of these methods can vary depending on the size of the data set being analyzed, the available resources of the system, and other factors. In general, however, the NumPy method is likely to be the fastest and most efficient."
   ]
  },
  {
   "cell_type": "code",
   "execution_count": null,
   "id": "9ef721ce",
   "metadata": {},
   "outputs": [],
   "source": []
  },
  {
   "cell_type": "markdown",
   "id": "39a33f22",
   "metadata": {},
   "source": [
    "12. What is the dimensionality of a Boolean mask-generated array?"
   ]
  },
  {
   "cell_type": "markdown",
   "id": "518005c8",
   "metadata": {},
   "source": [
    "The dimensionality of a Boolean mask-generated array depends on the dimensionality of the original array and the Boolean mask itself.\n",
    "\n",
    "When a Boolean mask is applied to a NumPy array, the resulting array will have the same shape as the original array, but with values set to True or False based on the result of the Boolean mask.\n",
    "\n",
    "For example, consider the following NumPy array and Boolean mask:"
   ]
  },
  {
   "cell_type": "code",
   "execution_count": 18,
   "id": "0257304f",
   "metadata": {},
   "outputs": [
    {
     "data": {
      "text/plain": [
       "array([[False, False],\n",
       "       [False,  True],\n",
       "       [ True,  True]])"
      ]
     },
     "execution_count": 18,
     "metadata": {},
     "output_type": "execute_result"
    }
   ],
   "source": [
    "import numpy as np\n",
    "\n",
    "arr = np.array([[1, 2], [3, 4], [5, 6]])\n",
    "mask = arr > 3\n",
    "mask"
   ]
  },
  {
   "cell_type": "markdown",
   "id": "19811af7",
   "metadata": {},
   "source": [
    "we can use this Boolean mask-generated array to index the original array and return only the elements that satisfy the condition. In this case, the resulting array would have the shape (2, 2):"
   ]
  },
  {
   "cell_type": "code",
   "execution_count": 19,
   "id": "89bf8bab",
   "metadata": {},
   "outputs": [
    {
     "name": "stdout",
     "output_type": "stream",
     "text": [
      "[4 5 6]\n"
     ]
    }
   ],
   "source": [
    "result = arr[mask]\n",
    "\n",
    "print(result)"
   ]
  },
  {
   "cell_type": "markdown",
   "id": "9c01d8b7",
   "metadata": {},
   "source": [
    "Note that the resulting array will have a lower dimensionality than the original array if the Boolean mask reduces the number of dimensions. For example, if we apply a Boolean mask to a one-dimensional array, the resulting array will also be one-dimensional."
   ]
  }
 ],
 "metadata": {
  "kernelspec": {
   "display_name": "Python 3 (ipykernel)",
   "language": "python",
   "name": "python3"
  },
  "language_info": {
   "codemirror_mode": {
    "name": "ipython",
    "version": 3
   },
   "file_extension": ".py",
   "mimetype": "text/x-python",
   "name": "python",
   "nbconvert_exporter": "python",
   "pygments_lexer": "ipython3",
   "version": "3.9.12"
  }
 },
 "nbformat": 4,
 "nbformat_minor": 5
}
