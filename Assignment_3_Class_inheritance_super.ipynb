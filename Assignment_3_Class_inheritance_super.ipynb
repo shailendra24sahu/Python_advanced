{
 "cells": [
  {
   "cell_type": "markdown",
   "id": "9a4e04df",
   "metadata": {},
   "source": [
    "1. What is the concept of an abstract superclass?"
   ]
  },
  {
   "cell_type": "markdown",
   "id": "5ced38a3",
   "metadata": {},
   "source": [
    "An abstract superclass is a class that is designed to serve as a base or template for other classes to inherit from. It cannot be directly instantiated, and its purpose is to provide a set of common attributes and methods that its subclasses can share and override as needed.\n",
    "\n",
    "The abstract superclass defines a set of abstract methods that must be implemented by its subclasses. These methods provide a contract for how the subclasses must behave, and they ensure that the subclasses have the necessary functionality to be used in a specific context.\n"
   ]
  },
  {
   "cell_type": "code",
   "execution_count": null,
   "id": "937ea08a",
   "metadata": {},
   "outputs": [],
   "source": []
  },
  {
   "cell_type": "markdown",
   "id": "3063f90f",
   "metadata": {},
   "source": [
    "2. What happens when a class statement&#39;s top level contains a basic assignment statement?"
   ]
  },
  {
   "cell_type": "markdown",
   "id": "276bf685",
   "metadata": {},
   "source": [
    "When a class statement's top level contains a basic assignment statement, it creates a class variable with that name and assigns the value to it.\n",
    "\n",
    "For example, consider the following code:"
   ]
  },
  {
   "cell_type": "code",
   "execution_count": 1,
   "id": "0acc0631",
   "metadata": {},
   "outputs": [],
   "source": [
    "class MyClass:\n",
    "    x = 5"
   ]
  },
  {
   "cell_type": "code",
   "execution_count": null,
   "id": "ff7d55fb",
   "metadata": {},
   "outputs": [],
   "source": []
  },
  {
   "cell_type": "markdown",
   "id": "32ecc58d",
   "metadata": {},
   "source": [
    "3. Why does a class need to manually call a superclass&#39;s __init__ method?"
   ]
  },
  {
   "cell_type": "markdown",
   "id": "adc2a981",
   "metadata": {},
   "source": [
    "\n",
    "In Python, when you define a class that inherits from a superclass (also known as a parent or base class), you have the option to override the superclass's __init__ method in the subclass. The __init__ method is a special method in Python classes that gets automatically called when you create an instance (object) of the class.\n",
    "\n",
    "If you override the __init__ method in the subclass and want to retain the functionality of the superclass's __init__, you need to manually call the superclass's __init__ method within the subclass's __init__ method. This ensures that both the subclass-specific initialization and the initialization from the superclass are properly executed."
   ]
  },
  {
   "cell_type": "code",
   "execution_count": 2,
   "id": "5abeffd2",
   "metadata": {},
   "outputs": [
    {
     "name": "stdout",
     "output_type": "stream",
     "text": [
      "Buddy is a Dog of breed Labrador.\n",
      "Buddy says: Woof!\n",
      "Whiskers is a Cat of breed Siamese.\n",
      "Whiskers says: Meow!\n"
     ]
    }
   ],
   "source": [
    "# Parent class (superclass)\n",
    "class Animal:\n",
    "    def __init__(self, species):\n",
    "        self.species = species\n",
    "\n",
    "    def make_sound(self):\n",
    "        pass\n",
    "\n",
    "# Subclass inheriting from Animal\n",
    "class Dog(Animal):\n",
    "    def __init__(self, breed, name):\n",
    "        # Call the superclass's __init__ method using super()\n",
    "        super().__init__('Dog')\n",
    "        self.breed = breed\n",
    "        self.name = name\n",
    "\n",
    "    def make_sound(self):\n",
    "        return \"Woof!\"\n",
    "\n",
    "# Subclass inheriting from Animal\n",
    "class Cat(Animal):\n",
    "    def __init__(self, breed, name):\n",
    "        # Call the superclass's __init__ method using super()\n",
    "        super().__init__('Cat')\n",
    "        self.breed = breed\n",
    "        self.name = name\n",
    "\n",
    "    def make_sound(self):\n",
    "        return \"Meow!\"\n",
    "\n",
    "# Creating instances of the subclasses\n",
    "dog_1 = Dog(breed='Labrador', name='Buddy')\n",
    "cat_1 = Cat(breed='Siamese', name='Whiskers')\n",
    "\n",
    "# Accessing attributes and methods\n",
    "print(f\"{dog_1.name} is a {dog_1.species} of breed {dog_1.breed}.\")\n",
    "print(f\"{dog_1.name} says: {dog_1.make_sound()}\")\n",
    "\n",
    "print(f\"{cat_1.name} is a {cat_1.species} of breed {cat_1.breed}.\")\n",
    "print(f\"{cat_1.name} says: {cat_1.make_sound()}\")\n"
   ]
  },
  {
   "cell_type": "markdown",
   "id": "cd49b081",
   "metadata": {},
   "source": [
    "```\n",
    "In this example, the Animal class has an __init__ method that takes the species as an argument and assigns it to the instance variable self.species. The Dog and Cat subclasses override the __init__ method and provide additional attributes specific to each class (breed and name). By calling super().__init__('Dog') and super().__init__('Cat') within the __init__ method of the subclasses, we ensure that the species attribute from the Animal class is also initialized appropriately when creating instances of Dog and Cat\n",
    "```"
   ]
  },
  {
   "cell_type": "code",
   "execution_count": null,
   "id": "e22874ae",
   "metadata": {},
   "outputs": [],
   "source": []
  },
  {
   "cell_type": "markdown",
   "id": "bd91f721",
   "metadata": {},
   "source": [
    "4. How can you augment, instead of completely replacing, an inherited method?"
   ]
  },
  {
   "cell_type": "markdown",
   "id": "463e9677",
   "metadata": {},
   "source": [
    "In Python, we can augment or modify the behavior of a method that is inherited from a superclass by overriding the method in the subclass and calling the superclass's method using the `super()` function.\n",
    "\n",
    "To do this, we can define a method in the subclass with the same name as the method in the superclass. Then, we can call the superclass method using the `super()` function and modify the behavior of the method in the subclass.\n",
    "\n",
    "Here is an example:"
   ]
  },
  {
   "cell_type": "code",
   "execution_count": 2,
   "id": "afb6933e",
   "metadata": {},
   "outputs": [
    {
     "name": "stdout",
     "output_type": "stream",
     "text": [
      "Generic animal sound\n",
      "Meow\n"
     ]
    }
   ],
   "source": [
    "class Animal:\n",
    "    def make_sound(self):\n",
    "        print(\"Generic animal sound\")\n",
    "\n",
    "class Cat(Animal):\n",
    "    def make_sound(self):\n",
    "        super().make_sound()\n",
    "        print(\"Meow\")\n",
    "\n",
    "cat = Cat()\n",
    "cat.make_sound()"
   ]
  },
  {
   "cell_type": "markdown",
   "id": "5e2dcbfd",
   "metadata": {},
   "source": [
    "In this example, the Animal class has a method make_sound() that prints a generic animal sound. The Cat class overrides this method by defining its own make_sound() method that first calls the superclass make_sound() method using super().make_sound() and then prints \"Meow\". This way, the Cat class can modify the behavior of the make_sound() method without completely replacing it."
   ]
  },
  {
   "cell_type": "code",
   "execution_count": null,
   "id": "317d5224",
   "metadata": {},
   "outputs": [],
   "source": []
  },
  {
   "cell_type": "markdown",
   "id": "74af64cd",
   "metadata": {},
   "source": [
    "5. How is the local scope of a class different from that of a function?"
   ]
  },
  {
   "cell_type": "markdown",
   "id": "c6bbd148",
   "metadata": {},
   "source": [
    "The local scope of a class is different from that of a function in several ways:\n",
    "\n",
    "Class scope: A class is a type of object in Python that has its own scope. This means that any variables defined within a class are only accessible within that class, and cannot be accessed from outside the class without using class methods or properties.\n",
    "\n",
    "Function scope: In contrast, a function also has its own scope, but it is limited to the function itself and any nested functions within it. Variables defined within a function are only accessible within that function and its nested functions.\n",
    "\n",
    "Lifetime: Another difference is the lifetime of the variables. Variables defined within a function are created when the function is called and destroyed when the function completes.\n",
    "\n",
    "Accessibility: Finally, the accessibility of the variables is different. Variables defined within a class can be accessed by any method within the class, whereas variables defined within a function can only be accessed by that function and its nested functions."
   ]
  },
  {
   "cell_type": "code",
   "execution_count": null,
   "id": "53209a0a",
   "metadata": {},
   "outputs": [],
   "source": []
  }
 ],
 "metadata": {
  "kernelspec": {
   "display_name": "Python 3 (ipykernel)",
   "language": "python",
   "name": "python3"
  },
  "language_info": {
   "codemirror_mode": {
    "name": "ipython",
    "version": 3
   },
   "file_extension": ".py",
   "mimetype": "text/x-python",
   "name": "python",
   "nbconvert_exporter": "python",
   "pygments_lexer": "ipython3",
   "version": "3.10.9"
  }
 },
 "nbformat": 4,
 "nbformat_minor": 5
}
