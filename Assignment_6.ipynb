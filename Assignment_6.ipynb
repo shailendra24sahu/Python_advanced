{
 "cells": [
  {
   "cell_type": "markdown",
   "id": "381b8756",
   "metadata": {},
   "source": [
    "Q1. Describe three applications for exception processing."
   ]
  },
  {
   "cell_type": "markdown",
   "id": "5b7b7356",
   "metadata": {},
   "source": [
    "Exception processing is an important feature of Python that allows for handling of errors and exceptions that can occur during program execution. Here are three applications of exception processing in Python:\n",
    "\n",
    "1. Error handling: When a program encounters an error, such as a division by zero or a file that cannot be found, it raises an exception. By using exception handling, the program can catch and handle these exceptions in a way that provides feedback to the user or takes corrective action. For example, a program that reads data from a file can catch exceptions when the file is not found or when there is an error reading the file.\n",
    "\n",
    "```python\n",
    "try:\n",
    "    result = x / y\n",
    "except ZeroDivisionError:\n",
    "    print(\"Error: division by zero\")\n",
    "```\n",
    "\n",
    "2. Resource management: In some cases, a program may need to acquire resources, such as file handles or network connections, and ensure that they are properly released when they are no longer needed. By using exception handling, the program can ensure that resources are properly released, even if an error occurs. For example, a program that opens a network connection can catch exceptions when the connection is lost or when there is an error sending or receiving data.\n",
    "\n",
    "```python\n",
    "try:\n",
    "    conn = open_connection()\n",
    "    data = conn.recv()\n",
    "finally:\n",
    "    conn.close()\n",
    "```\n",
    "\n",
    "3. Program flow control: In some cases, a program may need to change its flow based on certain conditions or events. By using exception handling, the program can change its flow based on the occurrence of an exception. For example, a program that searches for a value in a list can catch exceptions when the value is not found and perform a different action based on whether the value is found or not.\n",
    "\n",
    "```python\n",
    "try:\n",
    "    index = mylist.index(value)\n",
    "except ValueError:\n",
    "    print(\"Value not found\")\n",
    "else:\n",
    "    print(\"Value found at index:\", index)\n",
    "```"
   ]
  },
  {
   "cell_type": "code",
   "execution_count": null,
   "id": "7f303306",
   "metadata": {},
   "outputs": [],
   "source": []
  },
  {
   "cell_type": "markdown",
   "id": "eb64ee53",
   "metadata": {},
   "source": [
    "Q2. What happens if you don&#39;t do something extra to treat an exception?"
   ]
  },
  {
   "cell_type": "markdown",
   "id": "e7f53f77",
   "metadata": {},
   "source": [
    "If we don't handle or treat an exception in Python, the program will terminate abruptly and display an error message that includes a traceback of the code leading up to the exception. This can be problematic because it doesn't provide any useful information to the user and doesn't allow the program to gracefully recover from the error."
   ]
  },
  {
   "cell_type": "code",
   "execution_count": null,
   "id": "8d210d40",
   "metadata": {},
   "outputs": [],
   "source": []
  },
  {
   "cell_type": "markdown",
   "id": "828bc7a1",
   "metadata": {},
   "source": [
    "Q3. What are your options for recovering from an exception in your script?"
   ]
  },
  {
   "cell_type": "markdown",
   "id": "6eab45d4",
   "metadata": {},
   "source": [
    "When an exception is raised during the execution of a script, there are several options available for recovering from the exception and allowing the program to continue running. Here are some common techniques:\n",
    "\n",
    "1. `try-except` block: We can use a `try-except` block to catch and handle the exception. This allows us to execute alternative code if an exception is raised. For example:\n",
    "\n",
    "```python\n",
    "try:\n",
    "    # Some code that might raise an exception\n",
    "except SomeException:\n",
    "    # Code to handle the exception and recover\n",
    "```\n",
    "\n",
    "2. `try-finally` block: We can use a `try-finally` block to ensure that certain code is always executed, regardless of whether an exception is raised. This is useful for releasing resources or closing files. For example:\n",
    "\n",
    "```python\n",
    "try:\n",
    "    # Some code that might raise an exception\n",
    "finally:\n",
    "    # Code that should always be executed, regardless of whether an exception is raised\n",
    "```\n",
    "\n",
    "3. `else` clause: We can use an `else` clause with a `try-except` block to execute code only if no exceptions are raised. This can be useful for executing code that should only be run if the main code block executes successfully. For example:\n",
    "\n",
    "```python\n",
    "try:\n",
    "    # Some code that might raise an exception\n",
    "except SomeException:\n",
    "    # Code to handle the exception and recover\n",
    "else:\n",
    "    # Code to run if no exceptions are raised\n",
    "```\n",
    "\n",
    "4. `raise` statement: We can use the `raise` statement to raise our own exceptions in response to certain conditions. This can be useful for signaling errors or other exceptional conditions. For example:\n",
    "\n",
    "```python\n",
    "if condition:\n",
    "    raise ValueError(\"Invalid value\")\n",
    "```"
   ]
  },
  {
   "cell_type": "code",
   "execution_count": null,
   "id": "8f5f8f9f",
   "metadata": {},
   "outputs": [],
   "source": []
  },
  {
   "cell_type": "markdown",
   "id": "29220948",
   "metadata": {},
   "source": [
    "Q4. Describe two methods for triggering exceptions in your script."
   ]
  },
  {
   "cell_type": "markdown",
   "id": "5d402ac7",
   "metadata": {},
   "source": [
    "1. `raise` statement: we can use the `raise` statement to explicitly raise an exception at any point in the script. This is useful when we encounter an error condition that we want to signal to the calling code. For example:\n",
    "\n",
    "```python\n",
    "if x < 0:\n",
    "    raise ValueError(\"x must be non-negative\")\n",
    "```\n",
    "\n",
    "In this example, if `x` is less than 0, a `ValueError` exception is raised with the message \"x must be non-negative\".\n",
    "\n",
    "2. Built-in functions: Many built-in functions in Python can raise exceptions if they encounter an error condition. For example, the `open()` function can raise a `FileNotFoundError` if it cannot find the specified file, and the `int()` function can raise a `ValueError` if the provided argument cannot be converted to an integer. For example:\n",
    "\n",
    "```python\n",
    "try:\n",
    "    x = int(\"abc\")\n",
    "except ValueError:\n",
    "    print(\"Invalid argument\")\n",
    "```\n",
    "\n",
    "In this example, the `int()` function is called with the argument \"abc\", which cannot be converted to an integer, so a `ValueError` is raised and caught by the `try-except` block, which prints the message \"Invalid argument\"."
   ]
  },
  {
   "cell_type": "code",
   "execution_count": null,
   "id": "233dbd8d",
   "metadata": {},
   "outputs": [],
   "source": []
  },
  {
   "cell_type": "markdown",
   "id": "a3211caa",
   "metadata": {},
   "source": [
    "Q5. Identify two methods for specifying actions to be executed at termination time, regardless of\n",
    "whether or not an exception exists."
   ]
  },
  {
   "cell_type": "markdown",
   "id": "c7ff0934",
   "metadata": {},
   "source": [
    "These are the two common methods for specifying actions to be executed at termination time, regardless of whether or not an exception exists:\n",
    "\n",
    "1. `try-finally` block: We can use a `try-finally` block to ensure that certain code is always executed, regardless of whether an exception is raised. This is useful for releasing resources or closing files, for example. The code in the `finally` block will be executed even if an exception is raised in the `try` block. For example:\n",
    "\n",
    "```python\n",
    "try:\n",
    "    # Some code that might raise an exception\n",
    "finally:\n",
    "    # Code that should always be executed, regardless of whether an exception is raised\n",
    "```\n",
    "\n",
    "In this example, the code in the `finally` block will always be executed, regardless of whether an exception is raised in the `try` block.\n",
    "\n",
    "2. `atexit` module: The `atexit` module provides a way to register functions that will be called when the Python interpreter exits, either normally or with an unhandled exception. You can register a function using the `register()` method of the `atexit` module. For example:\n",
    "\n",
    "```python\n",
    "import atexit\n",
    "\n",
    "def cleanup():\n",
    "    # Code to execute at exit time\n",
    "\n",
    "atexit.register(cleanup)\n",
    "```\n",
    "\n",
    "In this example, the `cleanup()` function will be executed when the Python interpreter exits, either normally or with an unhandled exception."
   ]
  }
 ],
 "metadata": {
  "kernelspec": {
   "display_name": "Python 3 (ipykernel)",
   "language": "python",
   "name": "python3"
  },
  "language_info": {
   "codemirror_mode": {
    "name": "ipython",
    "version": 3
   },
   "file_extension": ".py",
   "mimetype": "text/x-python",
   "name": "python",
   "nbconvert_exporter": "python",
   "pygments_lexer": "ipython3",
   "version": "3.9.12"
  }
 },
 "nbformat": 4,
 "nbformat_minor": 5
}
