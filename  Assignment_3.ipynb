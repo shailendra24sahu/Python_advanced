{
 "cells": [
  {
   "cell_type": "markdown",
   "id": "9a4e04df",
   "metadata": {},
   "source": [
    "1. What is the concept of an abstract superclass?"
   ]
  },
  {
   "cell_type": "markdown",
   "id": "5ced38a3",
   "metadata": {},
   "source": [
    "An abstract superclass is a class that is designed to serve as a base or template for other classes to inherit from. It cannot be directly instantiated, and its purpose is to provide a set of common attributes and methods that its subclasses can share and override as needed.\n",
    "\n",
    "The abstract superclass defines a set of abstract methods that must be implemented by its subclasses. These methods provide a contract for how the subclasses must behave, and they ensure that the subclasses have the necessary functionality to be used in a specific context.\n"
   ]
  },
  {
   "cell_type": "code",
   "execution_count": null,
   "id": "937ea08a",
   "metadata": {},
   "outputs": [],
   "source": []
  },
  {
   "cell_type": "markdown",
   "id": "3063f90f",
   "metadata": {},
   "source": [
    "2. What happens when a class statement&#39;s top level contains a basic assignment statement?"
   ]
  },
  {
   "cell_type": "markdown",
   "id": "276bf685",
   "metadata": {},
   "source": [
    "When a class statement's top level contains a basic assignment statement, it creates a class variable with that name and assigns the value to it.\n",
    "\n",
    "For example, consider the following code:"
   ]
  },
  {
   "cell_type": "code",
   "execution_count": 1,
   "id": "0acc0631",
   "metadata": {},
   "outputs": [],
   "source": [
    "class MyClass:\n",
    "    x = 5"
   ]
  },
  {
   "cell_type": "code",
   "execution_count": null,
   "id": "ff7d55fb",
   "metadata": {},
   "outputs": [],
   "source": []
  },
  {
   "cell_type": "markdown",
   "id": "32ecc58d",
   "metadata": {},
   "source": [
    "3. Why does a class need to manually call a superclass&#39;s __init__ method?"
   ]
  },
  {
   "cell_type": "markdown",
   "id": "adc2a981",
   "metadata": {},
   "source": [
    "When a class is created, it may inherit from one or more parent classes or superclasses. These parent classes define a set of attributes and methods that are inherited by the subclass.\n",
    "\n",
    "In Python, when defining a subclass, we can call the constructor or `__init__` method of the superclass using the `super()` function. This is necessary because the subclass may need to initialize the attributes of the superclass before it can use them.\n",
    "\n",
    "By calling the superclass `__init__` method in the subclass, the attributes of the superclass are initialized before the subclass attributes are initialized. This ensures that the subclass has access to all the attributes of the superclass.\n",
    "\n",
    "If we don't call the superclass `__init__` method, the subclass will not have access to the superclass attributes, and any attempts to access them will result in an error. Therefore, it is essential to call the superclass `__init__` method in the subclass to ensure that the subclass has all the necessary attributes initialized."
   ]
  },
  {
   "cell_type": "code",
   "execution_count": null,
   "id": "e22874ae",
   "metadata": {},
   "outputs": [],
   "source": []
  },
  {
   "cell_type": "markdown",
   "id": "bd91f721",
   "metadata": {},
   "source": [
    "4. How can you augment, instead of completely replacing, an inherited method?"
   ]
  },
  {
   "cell_type": "markdown",
   "id": "463e9677",
   "metadata": {},
   "source": [
    "In Python, we can augment or modify the behavior of a method that is inherited from a superclass by overriding the method in the subclass and calling the superclass's method using the `super()` function.\n",
    "\n",
    "To do this, we can define a method in the subclass with the same name as the method in the superclass. Then, we can call the superclass method using the `super()` function and modify the behavior of the method in the subclass.\n",
    "\n",
    "Here is an example:"
   ]
  },
  {
   "cell_type": "code",
   "execution_count": 2,
   "id": "afb6933e",
   "metadata": {},
   "outputs": [
    {
     "name": "stdout",
     "output_type": "stream",
     "text": [
      "Generic animal sound\n",
      "Meow\n"
     ]
    }
   ],
   "source": [
    "class Animal:\n",
    "    def make_sound(self):\n",
    "        print(\"Generic animal sound\")\n",
    "\n",
    "class Cat(Animal):\n",
    "    def make_sound(self):\n",
    "        super().make_sound()\n",
    "        print(\"Meow\")\n",
    "\n",
    "cat = Cat()\n",
    "cat.make_sound()"
   ]
  },
  {
   "cell_type": "markdown",
   "id": "5e2dcbfd",
   "metadata": {},
   "source": [
    "In this example, the Animal class has a method make_sound() that prints a generic animal sound. The Cat class overrides this method by defining its own make_sound() method that first calls the superclass make_sound() method using super().make_sound() and then prints \"Meow\". This way, the Cat class can modify the behavior of the make_sound() method without completely replacing it."
   ]
  },
  {
   "cell_type": "code",
   "execution_count": null,
   "id": "317d5224",
   "metadata": {},
   "outputs": [],
   "source": []
  },
  {
   "cell_type": "markdown",
   "id": "74af64cd",
   "metadata": {},
   "source": [
    "5. How is the local scope of a class different from that of a function?"
   ]
  },
  {
   "cell_type": "markdown",
   "id": "c6bbd148",
   "metadata": {},
   "source": [
    "The local scope of a class is different from that of a function in several ways:\n",
    "\n",
    "Class scope: A class is a type of object in Python that has its own scope. This means that any variables defined within a class are only accessible within that class, and cannot be accessed from outside the class without using class methods or properties.\n",
    "\n",
    "Function scope: In contrast, a function also has its own scope, but it is limited to the function itself and any nested functions within it. Variables defined within a function are only accessible within that function and its nested functions.\n",
    "\n",
    "Lifetime: Another difference is the lifetime of the variables. Variables defined within a function are created when the function is called and destroyed when the function completes.\n",
    "\n",
    "Accessibility: Finally, the accessibility of the variables is different. Variables defined within a class can be accessed by any method within the class, whereas variables defined within a function can only be accessed by that function and its nested functions."
   ]
  },
  {
   "cell_type": "code",
   "execution_count": null,
   "id": "53209a0a",
   "metadata": {},
   "outputs": [],
   "source": []
  }
 ],
 "metadata": {
  "kernelspec": {
   "display_name": "Python 3 (ipykernel)",
   "language": "python",
   "name": "python3"
  },
  "language_info": {
   "codemirror_mode": {
    "name": "ipython",
    "version": 3
   },
   "file_extension": ".py",
   "mimetype": "text/x-python",
   "name": "python",
   "nbconvert_exporter": "python",
   "pygments_lexer": "ipython3",
   "version": "3.9.12"
  }
 },
 "nbformat": 4,
 "nbformat_minor": 5
}
