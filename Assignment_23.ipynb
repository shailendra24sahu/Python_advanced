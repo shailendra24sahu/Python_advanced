{
 "cells": [
  {
   "cell_type": "markdown",
   "id": "34ad4cd6",
   "metadata": {},
   "source": [
    "Q1. If you have any, what are your choices for increasing the comparison between different figures on\n",
    "the same graph?"
   ]
  },
  {
   "cell_type": "markdown",
   "id": "a62d7324",
   "metadata": {},
   "source": [
    "There are several ways to increase the comparison between different figures on the same graph. Here are some of my suggestions:\n",
    "\n",
    "1. Use a consistent scale: Ensure that the scale on the axes is the same for all the figures on the graph. This will help to accurately compare the values between the different figures.\n",
    "\n",
    "2. Use different colors: Use different colors for each figure on the graph to make them more distinguishable. Try to choose colors that are easily recognizable and do not clash with each other.\n",
    "\n",
    "3. Use different patterns or textures: Another way to differentiate the figures is by using different patterns or textures. For example, we could use diagonal lines for one figure and horizontal lines for another.\n",
    "\n",
    "4. Use annotations: Add labels or annotations to the graph to provide additional information about the figures. This could include highlighting specific data points or adding text to explain trends or patterns.\n",
    "\n",
    "5. Use multiple graphs: Sometimes, it may be difficult to compare figures on a single graph. In this case, we can create multiple graphs to display the data in a more meaningful way. For example, we could create a bar chart for one figure and a line graph for another.\n",
    "\n",
    "Overall, the key is to make sure that the figures are easily distinguishable and that the data is presented in a way that is easy to interpret and compare."
   ]
  },
  {
   "cell_type": "code",
   "execution_count": null,
   "id": "c5608bb4",
   "metadata": {},
   "outputs": [],
   "source": []
  },
  {
   "cell_type": "markdown",
   "id": "a6565edf",
   "metadata": {},
   "source": [
    "Q2. Can you explain the benefit of compound interest over a higher rate of interest that does not\n",
    "compound after reading this chapter?"
   ]
  },
  {
   "cell_type": "markdown",
   "id": "436184ab",
   "metadata": {},
   "source": [
    "Compound interest refers to the interest earned on both the principal amount and the interest that has already been earned. In other words, the interest earned in one period is added to the principal, and the interest earned in the next period is calculated based on the new, higher principal amount. This process continues for each period, resulting in a compounding effect that leads to exponential growth of the investment over time.\n",
    "\n",
    "On the other hand, a higher rate of interest that does not compound does not have the same compounding effect. For example, if we invest 1,000 at a simple interest rate of 10% per year, we will earn 100 in interest after one year. However, if the interest rate is compounded annually, we will earn 110 in interest after the first year, as the interest earned in the first year is added to the principal for the second year.\n",
    "\n",
    "The benefit of compound interest is that it allows our investment to grow at a much faster rate than a simple interest rate, especially over a long period of time. With compound interest, the interest earned in each period is added to the principal, resulting in a higher principal amount for the next period. As a result, the interest earned in each subsequent period also increases, leading to exponential growth of the investment over time.\n",
    "\n",
    "To illustrate this, consider two investments: one that earns a simple interest rate of 10% per year and another that earns a compound interest rate of 10% per year. After 10 years, the investment with simple interest will have earned a total of 1,000 in interest, while the investment with compound interest will have earned a total of 1,593.74 in interest. This is because the compound interest investment earned interest on both the principal and the interest earned in each period.\n",
    "\n",
    "In summary, the benefit of compound interest over a higher rate of interest that does not compound is that it allows our investment to grow at a much faster rate, especially over a long period of time. By reinvesting the interest earned, we can take advantage of the compounding effect and achieve exponential growth of our investment."
   ]
  },
  {
   "cell_type": "code",
   "execution_count": null,
   "id": "209b2823",
   "metadata": {},
   "outputs": [],
   "source": []
  },
  {
   "cell_type": "markdown",
   "id": "7c671b5c",
   "metadata": {},
   "source": [
    "Q3. What is a histogram, exactly? Name a numpy method for creating such a graph."
   ]
  },
  {
   "cell_type": "markdown",
   "id": "ce725343",
   "metadata": {},
   "source": [
    "A histogram is a graphical representation of the distribution of a set of numerical data. It is commonly used to visualize the frequency distribution of a continuous variable. The data is divided into a set of intervals, called bins, and the number of data points that fall into each bin is represented by the height of a bar.\n",
    "\n",
    "The histogram allows us to see how the data is distributed, such as if it is skewed to one side, if it has multiple peaks, or if it follows a normal distribution.\n",
    "\n",
    "In Python, we can create a histogram using the NumPy library, specifically the histogram() function. Here is an example:"
   ]
  },
  {
   "cell_type": "code",
   "execution_count": 9,
   "id": "276a543e",
   "metadata": {},
   "outputs": [
    {
     "data": {
      "image/png": "[encoded data removed]",
      "text/plain": [
       "<Figure size 432x288 with 1 Axes>"
      ]
     },
     "metadata": {
      "needs_background": "light"
     },
     "output_type": "display_data"
    }
   ],
   "source": [
    "import numpy as np\n",
    "import matplotlib.pyplot as plt\n",
    "\n",
    "# Generate some random data\n",
    "data = np.random.normal(0, 1, 1000)\n",
    "\n",
    "# Create a histogram with 10 bins\n",
    "plt.hist(data, bins=10)\n",
    "plt.show()"
   ]
  },
  {
   "cell_type": "markdown",
   "id": "f01523c9",
   "metadata": {},
   "source": [
    "Note that in addition to histogram(), there are several other functions in NumPy and other Python libraries that can be used to create histograms, such as numpy.histogram2d() for two-dimensional histograms and seaborn.histplot() from the Seaborn library for more advanced visualization options."
   ]
  },
  {
   "cell_type": "code",
   "execution_count": null,
   "id": "3bb0f532",
   "metadata": {},
   "outputs": [],
   "source": []
  },
  {
   "cell_type": "markdown",
   "id": "11e6bd46",
   "metadata": {},
   "source": [
    "Q4. If necessary, how do you change the aspect ratios between the X and Y axes"
   ]
  },
  {
   "cell_type": "markdown",
   "id": "94cc7ceb",
   "metadata": {},
   "source": [
    "To change the aspect ratio between the X and Y axes in a plot, we can use the aspect parameter in the plt.subplots() function or the set_aspect() method of a Axes object in Matplotlib.\n",
    "\n",
    "Here is an example of how to change the aspect ratio using the aspect parameter in plt.subplots():"
   ]
  },
  {
   "cell_type": "code",
   "execution_count": 11,
   "id": "0aac515d",
   "metadata": {},
   "outputs": [
    {
     "data": {
      "image/png": "[encoded data removed]",
      "text/plain": [
       "<Figure size 432x288 with 1 Axes>"
      ]
     },
     "metadata": {
      "needs_background": "light"
     },
     "output_type": "display_data"
    }
   ],
   "source": [
    "import matplotlib.pyplot as plt\n",
    "\n",
    "fig, ax = plt.subplots()\n",
    "ax.plot([1, 2, 3], [4, 5, 6])\n",
    "\n",
    "# Set the aspect ratio to 1:2\n",
    "ax.set_aspect(2.0)\n",
    "\n",
    "plt.show()"
   ]
  },
  {
   "cell_type": "markdown",
   "id": "482e85fa",
   "metadata": {},
   "source": [
    "In this example, we create a simple plot using plt.subplots() and plot a line. The set_aspect() method is then called on the Axes object to set the aspect ratio to 1:2, which means that the Y axis will be twice as tall as the X axis.\n",
    "\n",
    "Note that the aspect parameter takes a scalar value, where 1.0 represents a square plot and values greater than 1.0 result in a taller plot, while values less than 1.0 result in a wider plot."
   ]
  },
  {
   "cell_type": "code",
   "execution_count": null,
   "id": "53043141",
   "metadata": {},
   "outputs": [],
   "source": []
  },
  {
   "cell_type": "markdown",
   "id": "ed34f1d4",
   "metadata": {},
   "source": [
    "Q5. Compare and contrast the three types of array multiplication between two numpy arrays: dot\n",
    "product, outer product, and regular multiplication of two numpy arrays."
   ]
  },
  {
   "cell_type": "markdown",
   "id": "bfd63bdd",
   "metadata": {},
   "source": [
    "\n",
    "\n",
    "Numpy is a popular Python library used for scientific computing and data analysis. It provides various functions for array operations. One of the essential operations is array multiplication. Numpy offers three types of array multiplication - dot product, outer product, and regular multiplication. \n",
    "\n",
    "Here are the differences between these three types of array multiplication:\n",
    "\n",
    "1. Dot Product:\n",
    "The dot product of two numpy arrays returns a scalar or a one-dimensional array. The dot product is calculated by taking the sum of the product of corresponding elements in both arrays. The dot product of two arrays `a` and `b` can be computed using `numpy.dot(a, b)` or simply `a.dot(b)`.\n",
    "\n",
    "2. Outer Product:\n",
    "The outer product of two numpy arrays returns a two-dimensional array. The outer product is calculated by taking the product of each element in one array with every element in the other array. The outer product of two arrays `a` and `b` can be computed using `numpy.outer(a, b)`.\n",
    "\n",
    "3. Regular Multiplication:\n",
    "Regular multiplication of two numpy arrays returns a new array where each element is the product of the corresponding elements in the original arrays. The regular multiplication of two arrays `a` and `b` can be computed using `numpy.multiply(a, b)` or simply `a * b`.\n",
    "\n",
    "In summary, the dot product returns a scalar or a one-dimensional array, the outer product returns a two-dimensional array, and regular multiplication returns a new array of the same shape as the original arrays. The dot product and outer product are different operations that involve different mathematical formulas, while regular multiplication is the element-wise multiplication of two arrays."
   ]
  },
  {
   "cell_type": "code",
   "execution_count": null,
   "id": "32a1f8bb",
   "metadata": {},
   "outputs": [],
   "source": []
  },
  {
   "cell_type": "markdown",
   "id": "6f021d1d",
   "metadata": {},
   "source": [
    "Q6. Before you buy a home, which numpy function will you use to measure your monthly mortgage\n",
    "payment?"
   ]
  },
  {
   "cell_type": "markdown",
   "id": "6bd89e4c",
   "metadata": {},
   "source": [
    "To calculate the monthly mortgage payment for a home, we can use the numpy financial function pmt().\n",
    "\n",
    "The pmt() function in numpy financial calculates the payment for a loan based on constant payments and a constant interest rate.\n",
    "\n",
    "Here's an example of how to use pmt() to calculate the monthly mortgage payment for a $300,000 loan at a 4.5% annual interest rate, with a 30-year term:"
   ]
  },
  {
   "cell_type": "code",
   "execution_count": 13,
   "id": "f5ceb1a7",
   "metadata": {},
   "outputs": [
    {
     "name": "stdout",
     "output_type": "stream",
     "text": [
      "The monthly mortgage payment is: -1520.06\n"
     ]
    },
    {
     "name": "stderr",
     "output_type": "stream",
     "text": [
      "C:\\Users\\Shailendra\\AppData\\Local\\Temp\\ipykernel_2104\\3854202756.py:8: DeprecationWarning: numpy.pmt is deprecated and will be removed from NumPy 1.20. Use numpy_financial.pmt instead (https://pypi.org/project/numpy-financial/).\n",
      "  monthly_payment = np.pmt(interest_rate, months, loan_amount)\n"
     ]
    }
   ],
   "source": [
    "import numpy as np\n",
    "\n",
    "loan_amount = 300000\n",
    "interest_rate = 0.045 / 12 # monthly interest rate\n",
    "years = 30 # loan term in years\n",
    "months = years * 12 # loan term in months\n",
    "\n",
    "monthly_payment = np.pmt(interest_rate, months, loan_amount)\n",
    "\n",
    "print(f\"The monthly mortgage payment is: {monthly_payment:.2f}\")"
   ]
  },
  {
   "cell_type": "markdown",
   "id": "ab7bdb7f",
   "metadata": {},
   "source": [
    "Note that the result is negative because it represents a cash outflow (payment) rather than an inflow (receipt)."
   ]
  },
  {
   "cell_type": "code",
   "execution_count": null,
   "id": "dfb6818c",
   "metadata": {
    "scrolled": true
   },
   "outputs": [],
   "source": []
  },
  {
   "cell_type": "markdown",
   "id": "640d1b65",
   "metadata": {},
   "source": [
    "Q7. Can string data be stored in numpy arrays? If so, list at least one restriction that applies to this\n",
    "data."
   ]
  },
  {
   "cell_type": "markdown",
   "id": "8f54f5f0",
   "metadata": {},
   "source": [
    "Yes, it is possible to store string data in NumPy arrays. NumPy provides a data type called numpy.string_ (or numpy.unicode_ for Unicode strings) that allows us to store string data in arrays.\n",
    "\n",
    "However, there are some restrictions when it comes to storing string data in NumPy arrays:\n",
    "\n",
    "1. Fixed length: NumPy arrays with string data are fixed-length, which means that once the array is created, the length of the strings in the array cannot be changed. This is because NumPy arrays are designed to store homogeneous data, and strings with different lengths would not be homogeneous.\n",
    "\n",
    "2. Performance: Operations on arrays with string data can be slower than on arrays with numeric data because strings require more memory and processing power to manipulate.\n",
    "\n",
    "3. Memory allocation: When creating an array with string data, we need to specify the maximum length of the strings in the array. This means that the array will allocate enough memory to store strings of that maximum length, even if most of the strings in the array are shorter. This can lead to inefficient use of memory if the maximum length is much larger than the typical length of the strings in the array.\n",
    "\n",
    "Here's an example of creating a NumPy array with string data:"
   ]
  },
  {
   "cell_type": "code",
   "execution_count": 17,
   "id": "7433b142",
   "metadata": {},
   "outputs": [
    {
     "name": "stdout",
     "output_type": "stream",
     "text": [
      "[b'apple' b'banana' b'orange']\n"
     ]
    }
   ],
   "source": [
    "import numpy as np\n",
    "\n",
    "# create a 1D array of strings with a maximum length of 10 characters\n",
    "str_arr = np.array(['apple', 'banana', 'orange'], dtype='S10')\n",
    "\n",
    "# print the array\n",
    "print(str_arr)"
   ]
  },
  {
   "cell_type": "markdown",
   "id": "5a3e917a",
   "metadata": {},
   "source": [
    "Note that the dtype parameter is used to specify the data type of the array as S10, which means that each string in the array can have a maximum length of 10 characters."
   ]
  }
 ],
 "metadata": {
  "kernelspec": {
   "display_name": "Python 3 (ipykernel)",
   "language": "python",
   "name": "python3"
  },
  "language_info": {
   "codemirror_mode": {
    "name": "ipython",
    "version": 3
   },
   "file_extension": ".py",
   "mimetype": "text/x-python",
   "name": "python",
   "nbconvert_exporter": "python",
   "pygments_lexer": "ipython3",
   "version": "3.9.12"
  }
 },
 "nbformat": 4,
 "nbformat_minor": 5
}
