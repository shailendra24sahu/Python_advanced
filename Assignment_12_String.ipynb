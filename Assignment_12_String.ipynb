{
 "cells": [
  {
   "cell_type": "markdown",
   "id": "a7db04de",
   "metadata": {},
   "source": [
    "Q1. Does assigning a value to a string&#39;s indexed character violate Python&#39;s string immutability?"
   ]
  },
  {
   "cell_type": "markdown",
   "id": "66561ddc",
   "metadata": {},
   "source": [
    "Yes, assigning a value to a string's indexed character violates Python's string immutability. \n",
    "\n",
    "In Python, strings are immutable objects, which means that once a string object is created, its contents cannot be changed. Therefore, trying to modify a string in-place by assigning a value to a specific indexed character will result in a TypeError. \n",
    "\n",
    "However, it is possible to create a new string that contains the desired modifications using string concatenation or formatting."
   ]
  },
  {
   "cell_type": "code",
   "execution_count": null,
   "id": "8b765208",
   "metadata": {},
   "outputs": [],
   "source": []
  },
  {
   "cell_type": "markdown",
   "id": "4e51ca80",
   "metadata": {},
   "source": [
    "Q2. Does using the += operator to concatenate strings violate Python&#39;s string immutability? Why or\n",
    "why not?"
   ]
  },
  {
   "cell_type": "markdown",
   "id": "e9275380",
   "metadata": {},
   "source": [
    "Using the += operator to concatenate strings in Python does not violate the string immutability because the += operator does not actually modify the original string object in place. Instead, it creates a new string object that is the concatenation of the original string and the new string being added.\n",
    "\n",
    "For example, consider the following code:"
   ]
  },
  {
   "cell_type": "code",
   "execution_count": 1,
   "id": "e5d2a297",
   "metadata": {},
   "outputs": [
    {
     "name": "stdout",
     "output_type": "stream",
     "text": [
      "hello world\n"
     ]
    }
   ],
   "source": [
    "s = \"hello\"\n",
    "s += \" world\"\n",
    "print(s)"
   ]
  },
  {
   "cell_type": "code",
   "execution_count": null,
   "id": "9da5d848",
   "metadata": {},
   "outputs": [],
   "source": []
  },
  {
   "cell_type": "markdown",
   "id": "91407f21",
   "metadata": {},
   "source": [
    "Q3. In Python, how many different ways are there to index a character?"
   ]
  },
  {
   "cell_type": "markdown",
   "id": "cf291462",
   "metadata": {},
   "source": [
    "In Python, there are two different ways to index a character in a string:\n",
    "\n",
    "Positive indexing:"
   ]
  },
  {
   "cell_type": "code",
   "execution_count": 2,
   "id": "610de9be",
   "metadata": {},
   "outputs": [
    {
     "name": "stdout",
     "output_type": "stream",
     "text": [
      "h\n",
      "l\n"
     ]
    }
   ],
   "source": [
    "s = \"hello\"\n",
    "print(s[0])    \n",
    "print(s[2])    "
   ]
  },
  {
   "cell_type": "markdown",
   "id": "12b5016b",
   "metadata": {},
   "source": [
    "Negative indexing: "
   ]
  },
  {
   "cell_type": "code",
   "execution_count": 3,
   "id": "f9ee51d4",
   "metadata": {},
   "outputs": [
    {
     "name": "stdout",
     "output_type": "stream",
     "text": [
      "o\n",
      "l\n"
     ]
    }
   ],
   "source": [
    "s = \"hello\"\n",
    "print(s[-1])    \n",
    "print(s[-3])    "
   ]
  },
  {
   "cell_type": "code",
   "execution_count": null,
   "id": "565b432a",
   "metadata": {},
   "outputs": [],
   "source": []
  },
  {
   "cell_type": "markdown",
   "id": "08dc0b9e",
   "metadata": {},
   "source": [
    "Q4. What is the relationship between indexing and slicing?"
   ]
  },
  {
   "cell_type": "markdown",
   "id": "5858d355",
   "metadata": {},
   "source": [
    "In Python, indexing and slicing are two ways to extract elements from a sequence like a string or a list. The relationship between indexing and slicing is that slicing is a more powerful operation than indexing, as it allows us to extract not just a single element from a sequence, but also a subsequence of elements.\n",
    "\n",
    "Indexing refers to accessing a single element of a sequence using its index position. For example, to access the first element of a string s, we can use s[0]. Indexing allows us to extract a single element at a time.\n",
    "\n",
    "Slicing, on the other hand, allows us to extract a subsequence of elements from a sequence using a range of index positions. The basic syntax of slicing is s[start:stop:step], where start is the index position of the first element to be included in the slice (inclusive), stop is the index position of the last element to be included in the slice (exclusive), and step is the increment between the elements to be included in the slice. If any of these values are omitted, they default to 0 for start, len(s) for stop, and 1 for step."
   ]
  },
  {
   "cell_type": "code",
   "execution_count": null,
   "id": "438deba8",
   "metadata": {},
   "outputs": [],
   "source": []
  },
  {
   "cell_type": "markdown",
   "id": "062ba6b2",
   "metadata": {},
   "source": [
    "Q5. What is an indexed character&#39;s exact data type? What is the data form of a slicing-generated\n",
    "substring?"
   ]
  },
  {
   "cell_type": "markdown",
   "id": "84b28042",
   "metadata": {},
   "source": [
    "\n",
    "In Python, an indexed character in a string is represented by a string data type. More specifically, each character in a string is represented by a string data type containing a single character. This is because strings in Python are sequences of characters, and each character is itself a string of length one.\n",
    "\n",
    "For example, consider the following code:"
   ]
  },
  {
   "cell_type": "code",
   "execution_count": 4,
   "id": "ee89da4c",
   "metadata": {},
   "outputs": [
    {
     "name": "stdout",
     "output_type": "stream",
     "text": [
      "<class 'str'>\n"
     ]
    }
   ],
   "source": [
    "s = \"hello\"\n",
    "print(type(s[0]))   "
   ]
  },
  {
   "cell_type": "markdown",
   "id": "333f83b0",
   "metadata": {},
   "source": [
    "Here, s[0] is a string containing the first character of the string s, and its data type is <class 'str'>.\n",
    "\n",
    "A slicing-generated substring is also represented by a string data type. When we slice a string, we create a new string containing a subsequence of characters from the original string. The data type of the new string is the same as the data type of the original string.\n",
    "\n",
    "For example, consider the following code:"
   ]
  },
  {
   "cell_type": "code",
   "execution_count": 5,
   "id": "07803537",
   "metadata": {},
   "outputs": [
    {
     "name": "stdout",
     "output_type": "stream",
     "text": [
      "ell\n",
      "<class 'str'>\n"
     ]
    }
   ],
   "source": [
    "s = \"hello\"\n",
    "substring = s[1:4]\n",
    "print(substring)    \n",
    "print(type(substring))    "
   ]
  },
  {
   "cell_type": "code",
   "execution_count": null,
   "id": "7840c251",
   "metadata": {},
   "outputs": [],
   "source": []
  },
  {
   "cell_type": "markdown",
   "id": "36d5635b",
   "metadata": {},
   "source": [
    "Q6. What is the relationship between string and character &quot;types&quot; in Python?"
   ]
  },
  {
   "cell_type": "markdown",
   "id": "f8e5625a",
   "metadata": {},
   "source": [
    "\n",
    "In Python, a string is a sequence of characters. Each character in a string is itself a string of length one. Therefore, there is no distinction between string and character \"types\" in Python."
   ]
  },
  {
   "cell_type": "code",
   "execution_count": null,
   "id": "33dc74a4",
   "metadata": {},
   "outputs": [],
   "source": []
  },
  {
   "cell_type": "markdown",
   "id": "1b4a5a39",
   "metadata": {},
   "source": [
    "Q7. Identify at least two operators and one method that allow you to combine one or more smaller\n",
    "strings to create a larger string."
   ]
  },
  {
   "cell_type": "markdown",
   "id": "84197347",
   "metadata": {},
   "source": [
    "Here are two operators and one method that allow to combine one or more smaller strings to create a larger string in Python:\n",
    "\n",
    "1. The concatenation operator +: The + operator can be used to concatenate two or more strings into a single string. For example:"
   ]
  },
  {
   "cell_type": "code",
   "execution_count": 6,
   "id": "064ede93",
   "metadata": {},
   "outputs": [
    {
     "name": "stdout",
     "output_type": "stream",
     "text": [
      "Hello world\n"
     ]
    }
   ],
   "source": [
    "s1 = \"Hello\"\n",
    "s2 = \"world\"\n",
    "s3 = s1 + \" \" + s2\n",
    "print(s3)    "
   ]
  },
  {
   "cell_type": "markdown",
   "id": "344ee4b5",
   "metadata": {},
   "source": [
    "2. The join() method: The join() method can be used to concatenate a list of strings into a single string. For example:"
   ]
  },
  {
   "cell_type": "code",
   "execution_count": 7,
   "id": "23a5998d",
   "metadata": {},
   "outputs": [
    {
     "name": "stdout",
     "output_type": "stream",
     "text": [
      "Hello world\n"
     ]
    }
   ],
   "source": [
    "words = [\"Hello\", \"world\"]\n",
    "sentence = \" \".join(words)\n",
    "print(sentence)   "
   ]
  },
  {
   "cell_type": "markdown",
   "id": "009c99c3",
   "metadata": {},
   "source": [
    "3. The formatting operator %: The % operator can be used to combine strings and other data types into a single string using string formatting. For example:"
   ]
  },
  {
   "cell_type": "code",
   "execution_count": 8,
   "id": "1c80d58a",
   "metadata": {},
   "outputs": [
    {
     "name": "stdout",
     "output_type": "stream",
     "text": [
      "My name is Alice and I am 25 years old.\n"
     ]
    }
   ],
   "source": [
    "name = \"Alice\"\n",
    "age = 25\n",
    "message = \"My name is %s and I am %d years old.\" % (name, age)\n",
    "print(message)"
   ]
  },
  {
   "cell_type": "code",
   "execution_count": null,
   "id": "b6b16030",
   "metadata": {},
   "outputs": [],
   "source": []
  },
  {
   "cell_type": "markdown",
   "id": "5ffd977a",
   "metadata": {},
   "source": [
    "Q8. What is the benefit of first checking the target string with in or not in before using the index\n",
    "method to find a substring?"
   ]
  },
  {
   "cell_type": "markdown",
   "id": "7779b361",
   "metadata": {},
   "source": [
    "The in and not in operators in Python can be used to check whether a substring is present or not in a given string. The in operator returns True if the substring is present in the string, and False otherwise. Similarly, the not in operator returns True if the substring is not present in the string, and False otherwise.\n",
    "\n",
    "Before using the index() method to find a substring in a string, it is beneficial to first check whether the substring is present or not using the in or not in operator. This is because the index() method will raise a ValueError if the substring is not present in the string. By using the in or not in operator first, we can avoid this error and handle the case where the substring is not present in the string more gracefully.\n",
    "\n",
    "Here is an example that demonstrates this:"
   ]
  },
  {
   "cell_type": "code",
   "execution_count": 9,
   "id": "1bb618b9",
   "metadata": {},
   "outputs": [
    {
     "name": "stdout",
     "output_type": "stream",
     "text": [
      "The substring 'fox' is present in the string at index 16\n"
     ]
    }
   ],
   "source": [
    "text = \"The quick brown fox jumps over the lazy dog\"\n",
    "substring = \"fox\"\n",
    "\n",
    "# Check if the substring is present in the string using the 'in' operator\n",
    "if substring in text:\n",
    "    # Find the index of the substring in the string using the 'index' method\n",
    "    index = text.index(substring)\n",
    "    print(\"The substring '%s' is present in the string at index %d\" % (substring, index))\n",
    "else:\n",
    "    print(\"The substring '%s' is not present in the string\" % substring)"
   ]
  },
  {
   "cell_type": "code",
   "execution_count": null,
   "id": "a65f3e0f",
   "metadata": {},
   "outputs": [],
   "source": []
  },
  {
   "cell_type": "markdown",
   "id": "8847a2f8",
   "metadata": {},
   "source": [
    "Q9. Which operators and built-in string methods produce simple Boolean (true/false) results?"
   ]
  },
  {
   "cell_type": "markdown",
   "id": "ae506482",
   "metadata": {},
   "source": [
    "There are several operators and built-in string methods in Python that produce simple Boolean (true/false) results:\n",
    "\n",
    "Operators:\n",
    "- `==` (equal to)\n",
    "- `!=` (not equal to)\n",
    "- `<` (less than)\n",
    "- `>` (greater than)\n",
    "- `<=` (less than or equal to)\n",
    "- `>=` (greater than or equal to)\n",
    "- `in` (substring present in string)\n",
    "- `not in` (substring not present in string)\n",
    "\n",
    "Built-in string methods:\n",
    "- `startswith()` (returns `True` if the string starts with a given substring, otherwise `False`)\n",
    "- `endswith()` (returns `True` if the string ends with a given substring, otherwise `False`)\n",
    "- `isalpha()` (returns `True` if all characters in the string are alphabets, otherwise `False`)\n",
    "- `isdigit()` (returns `True` if all characters in the string are digits, otherwise `False`)\n",
    "- `isalnum()` (returns `True` if all characters in the string are alphanumeric, otherwise `False`)\n",
    "- `islower()` (returns `True` if all characters in the string are lowercase, otherwise `False`)\n",
    "- `isupper()` (returns `True` if all characters in the string are uppercase, otherwise `False`)\n",
    "- `isspace()` (returns `True` if all characters in the string are whitespace, otherwise `False`)\n",
    "- `isnumeric()` (returns `True` if all characters in the string are numeric, otherwise `False`)\n",
    "- `isdecimal()` (returns `True` if all characters in the string are decimal digits, otherwise `False`)\n",
    "\n",
    "These operators and methods are useful when working with strings and performing Boolean operations and comparisons."
   ]
  },
  {
   "cell_type": "code",
   "execution_count": null,
   "id": "0e3d8e24",
   "metadata": {},
   "outputs": [],
   "source": []
  }
 ],
 "metadata": {
  "kernelspec": {
   "display_name": "Python 3 (ipykernel)",
   "language": "python",
   "name": "python3"
  },
  "language_info": {
   "codemirror_mode": {
    "name": "ipython",
    "version": 3
   },
   "file_extension": ".py",
   "mimetype": "text/x-python",
   "name": "python",
   "nbconvert_exporter": "python",
   "pygments_lexer": "ipython3",
   "version": "3.9.12"
  }
 },
 "nbformat": 4,
 "nbformat_minor": 5
}
