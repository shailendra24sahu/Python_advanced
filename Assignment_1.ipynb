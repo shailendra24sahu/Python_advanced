{
 "cells": [
  {
   "cell_type": "markdown",
   "id": "ba2169c8",
   "metadata": {},
   "source": [
    "Q1. What is the purpose of Python&#39;s OOP?"
   ]
  },
  {
   "cell_type": "markdown",
   "id": "e31cb451",
   "metadata": {},
   "source": [
    "In OOP what we do is, we bind our code with the data. It allows us to develop applications using an Object-Oriented approach. In Python, we can easily create and use classes and objects.\n",
    "\n",
    "An object-oriented paradigm is to design the program using classes and objects. The object is related to real-word entities such as book, house, pencil, etc. The oops concept focuses on writing the reusable code. "
   ]
  },
  {
   "cell_type": "code",
   "execution_count": null,
   "id": "accf6789",
   "metadata": {},
   "outputs": [],
   "source": []
  },
  {
   "cell_type": "markdown",
   "id": "9190a3bc",
   "metadata": {},
   "source": [
    "Q2. Where does an inheritance search look for an attribute?"
   ]
  },
  {
   "cell_type": "markdown",
   "id": "86cb0b3d",
   "metadata": {},
   "source": [
    "An inheritance search looks for an attribute first in the instance object, then in the class the instance was created from, then in all higher superclasses, progressing from left to right (by default)."
   ]
  },
  {
   "cell_type": "code",
   "execution_count": null,
   "id": "f6cce8b6",
   "metadata": {},
   "outputs": [],
   "source": []
  },
  {
   "cell_type": "markdown",
   "id": "095a6313",
   "metadata": {},
   "source": [
    "Q3. How do you distinguish between a class object and an instance object?"
   ]
  },
  {
   "cell_type": "markdown",
   "id": "e6864fc9",
   "metadata": {},
   "source": [
    "A class is a type of blueprint that you can use to make objects. A concrete 'thing' that you constructed using a certain class is an object, which is an instance of a class. So, while the terms 'object' and 'instance' are interchangeable, the term 'instance' refers to an object's relationship to its class."
   ]
  },
  {
   "cell_type": "code",
   "execution_count": null,
   "id": "b0573006",
   "metadata": {},
   "outputs": [],
   "source": []
  },
  {
   "cell_type": "markdown",
   "id": "2f52b7f6",
   "metadata": {},
   "source": [
    "Q4. What makes the first argument in a class’s method function special?"
   ]
  },
  {
   "cell_type": "markdown",
   "id": "7c4f7f53",
   "metadata": {},
   "source": [
    "The first argument of a function in class must be the object itself. Writing this parameter as self is merely a convention. \n",
    "Self is the default variable which is always pointing to current object. By using self we can access instance variables and instance methods of object.\n",
    "It is not a keyword and has no special meaning in Python. We could use other names (like this) but it is highly discouraged. Using names other than self is frowned upon by most developers and degrades the readability of the code "
   ]
  },
  {
   "cell_type": "code",
   "execution_count": null,
   "id": "456e9cc8",
   "metadata": {},
   "outputs": [],
   "source": []
  },
  {
   "cell_type": "markdown",
   "id": "4723ea72",
   "metadata": {},
   "source": [
    "Q5. What is the purpose of the __init__ method?"
   ]
  },
  {
   "cell_type": "markdown",
   "id": "8a4a2a74",
   "metadata": {},
   "source": [
    "__init__ method\n",
    "It is called as a constructor in object oriented terminology. This method is called when an object is created from a class and it allows the class to initialize the attributes of the class.\n",
    "Constructor will be executed automatically at the time of object creation.\n",
    "\n",
    "\n",
    "- The main purpose of constructor is to declare and initialize instance variables.\n",
    "- Per object constructor will be exeucted only once.\n",
    "- Constructor can take atleast one argument(atleast self)"
   ]
  },
  {
   "cell_type": "code",
   "execution_count": null,
   "id": "706e226a",
   "metadata": {},
   "outputs": [],
   "source": []
  },
  {
   "cell_type": "markdown",
   "id": "fd181804",
   "metadata": {},
   "source": [
    "Q6. What is the process for creating a class instance?"
   ]
  },
  {
   "cell_type": "markdown",
   "id": "693275b4",
   "metadata": {},
   "source": [
    "To create instances of a class, you call the class using class name and pass in whatever arguments its __init__ method accepts."
   ]
  },
  {
   "cell_type": "code",
   "execution_count": null,
   "id": "2b1f1781",
   "metadata": {},
   "outputs": [],
   "source": []
  },
  {
   "cell_type": "markdown",
   "id": "82ecdd00",
   "metadata": {},
   "source": [
    "Q7. What is the process for creating a class?"
   ]
  },
  {
   "cell_type": "markdown",
   "id": "686159de",
   "metadata": {},
   "source": [
    "In Python, a class can be created by using the keyword class, followed by the class name and a colon after the class name.\n",
    "Inside it we define class constructor, methods and variable."
   ]
  },
  {
   "cell_type": "code",
   "execution_count": null,
   "id": "77589248",
   "metadata": {},
   "outputs": [],
   "source": []
  },
  {
   "cell_type": "markdown",
   "id": "7fc3939f",
   "metadata": {},
   "source": [
    "Q8. How would you define the superclasses of a class?"
   ]
  },
  {
   "cell_type": "markdown",
   "id": "263812d9",
   "metadata": {},
   "source": [
    "A superclass is the class from which many subclasses can be created. The subclasses inherit the characteristics of a superclass. The superclass is also known as the parent class or base class. "
   ]
  }
 ],
 "metadata": {
  "kernelspec": {
   "display_name": "Python 3 (ipykernel)",
   "language": "python",
   "name": "python3"
  },
  "language_info": {
   "codemirror_mode": {
    "name": "ipython",
    "version": 3
   },
   "file_extension": ".py",
   "mimetype": "text/x-python",
   "name": "python",
   "nbconvert_exporter": "python",
   "pygments_lexer": "ipython3",
   "version": "3.9.12"
  }
 },
 "nbformat": 4,
 "nbformat_minor": 5
}
