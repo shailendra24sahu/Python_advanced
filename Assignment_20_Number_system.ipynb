{
 "cells": [
  {
   "cell_type": "markdown",
   "id": "e867987d",
   "metadata": {},
   "source": [
    "1. Compare and contrast the float and Decimal classes&#39; benefits and drawbacks."
   ]
  },
  {
   "cell_type": "markdown",
   "id": "7eebd4c3",
   "metadata": {},
   "source": [
    "The `float` and `Decimal` classes are both used for representing and performing arithmetic operations on decimal numbers in Python. However, they have some key differences in terms of precision, range, and performance, which result in different benefits and drawbacks. Here's a comparison:\n",
    "\n",
    "1. Precision:\n",
    "   - `float`: Floating-point numbers are represented using the IEEE 754 standard, which provides a finite precision. Typically, `float` has 64-bit precision on most systems, allowing for around 15 decimal digits of precision.\n",
    "   - `Decimal`: The `Decimal` class provides arbitrary precision decimal arithmetic. It can represent and perform calculations on decimal numbers with a fixed number of decimal places. It is not limited to the precision constraints of the IEEE 754 standard and can provide a much higher level of precision.\n",
    "\n",
    "2. Range:\n",
    "   - `float`: Floating-point numbers have a limited range, which means they can only represent a certain range of values. The maximum and minimum representable finite values are system-dependent.\n",
    "   - `Decimal`: The `Decimal` class also has a limited range, but it is much larger compared to `float`. It can handle a wider range of values without losing precision.\n",
    "\n",
    "3. Accuracy:\n",
    "   - `float`: Due to the finite precision, floating-point arithmetic can sometimes lead to rounding errors or inaccuracies, especially when performing calculations involving decimal fractions. This is known as floating-point arithmetic's inherent imprecision.\n",
    "   - `Decimal`: The `Decimal` class provides precise decimal arithmetic, making it suitable for financial and monetary calculations where accuracy is crucial. It can avoid most rounding errors and inaccuracies that can occur with `float`.\n",
    "\n",
    "4. Performance:\n",
    "   - `float`: Floating-point arithmetic is generally faster than `Decimal` arithmetic because it is implemented in hardware and optimized for speed. It is the default choice for most numerical calculations in Python and is more efficient when dealing with a large volume of data.\n",
    "   - `Decimal`: Decimal arithmetic operations are implemented in software, which makes them slower compared to `float` operations. If performance is a critical factor, and the precision requirements are not very high, using `float` may be a better choice.\n",
    "\n",
    "5. Usage scenarios:\n",
    "   - `float`: `float` is commonly used in general-purpose scientific and engineering computations, simulations, and most mathematical operations that do not require high precision.\n",
    "   - `Decimal`: `Decimal` is particularly useful in domains where high precision is essential, such as financial and monetary calculations, currency conversions, tax calculations, and any application that deals with money or requires accurate decimal arithmetic.\n",
    "\n",
    "In summary, the `float` class offers faster computations and is suitable for most general numerical operations, while the `Decimal` class provides arbitrary precision and accurate decimal arithmetic at the cost of slower performance. Choosing between them depends on the specific requirements of our application, balancing precision needs, range, and performance considerations."
   ]
  },
  {
   "cell_type": "code",
   "execution_count": null,
   "id": "914e3ae5",
   "metadata": {},
   "outputs": [],
   "source": []
  },
  {
   "cell_type": "markdown",
   "id": "ab9c8b1d",
   "metadata": {},
   "source": [
    "2. Decimal(&#39;1.200&#39;) and Decimal(&#39;1.2&#39;) are two objects to consider. In what sense are these the same\n",
    "object? Are these just two ways of representing the exact same value, or do they correspond to\n",
    "different internal states?"
   ]
  },
  {
   "cell_type": "markdown",
   "id": "f90519de",
   "metadata": {},
   "source": [
    "In Python, the `Decimal('1.200')` and `Decimal('1.2')` are two different objects representing the same value. While they have the same numerical value, they correspond to different internal states.\n",
    "\n",
    "The `Decimal` class in Python is designed to represent decimal numbers with a fixed number of decimal places. When we create a `Decimal` object, the internal state of the object includes the value itself, as well as information about the number of digits and the position of the decimal point.\n",
    "\n",
    "In this case, `Decimal('1.200')` represents the value 1.200 with three decimal places, and `Decimal('1.2')` represents the value 1.2 with one decimal place. Although they have the same numerical value, they have different internal states because the number of decimal places is different.\n",
    "\n",
    "we can verify this by comparing the equality of these objects using the `==` operator. It will return `True` because the values are the same:\n",
    "\n",
    "```python\n",
    ">>> from decimal import Decimal\n",
    ">>> Decimal('1.200') == Decimal('1.2')\n",
    "True\n",
    "```\n",
    "\n",
    "However, if we compare the objects using the `is` operator, which checks for object identity, it will return `False` because they are different objects:\n",
    "\n",
    "```python\n",
    ">>> Decimal('1.200') is Decimal('1.2')\n",
    "False\n",
    "```\n",
    "\n",
    "In summary, `Decimal('1.200')` and `Decimal('1.2')` represent the same numerical value, but they correspond to different internal states as they have different decimal places."
   ]
  },
  {
   "cell_type": "code",
   "execution_count": null,
   "id": "dab6e36f",
   "metadata": {},
   "outputs": [],
   "source": []
  },
  {
   "cell_type": "markdown",
   "id": "fa240ab7",
   "metadata": {},
   "source": [
    "3. What happens if the equality of Decimal(&#39;1.200&#39;) and Decimal(&#39;1.2&#39;) is checked?"
   ]
  },
  {
   "cell_type": "markdown",
   "id": "c17c7292",
   "metadata": {},
   "source": [
    "When the equality of `Decimal('1.200')` and `Decimal('1.2')` is checked using the `==` operator, the result will be `True`. \n",
    "\n",
    "The `==` operator compares the numerical values of the `Decimal` objects and returns `True` if they are equal, regardless of their internal representations or the number of decimal places. In this case, both `Decimal('1.200')` and `Decimal('1.2')` represent the same numerical value, which is 1.2, so the comparison will evaluate to `True`.\n",
    "\n",
    "Here's an example:\n",
    "\n",
    "```python\n",
    ">>> from decimal import Decimal\n",
    ">>> Decimal('1.200') == Decimal('1.2')\n",
    "True\n",
    "```\n",
    "\n",
    "The `==` operator performs the comparison by considering the decimal values and performing any necessary rounding to match the precision of the operands. It takes into account the significant digits and compares them while ignoring trailing zeros after the decimal point.\n",
    "\n",
    "Therefore, even though `Decimal('1.200')` and `Decimal('1.2')` may have different internal states due to the number of decimal places, their values are considered equal when compared using the `==` operator."
   ]
  },
  {
   "cell_type": "code",
   "execution_count": null,
   "id": "f7334050",
   "metadata": {},
   "outputs": [],
   "source": []
  },
  {
   "cell_type": "markdown",
   "id": "1a5f10fc",
   "metadata": {},
   "source": [
    "4. Why is it preferable to start a Decimal object with a string rather than a floating-point value?"
   ]
  },
  {
   "cell_type": "markdown",
   "id": "c4131cfd",
   "metadata": {},
   "source": [
    "In Python, when working with the `Decimal` class from the `decimal` module, it is generally preferable to initialize a `Decimal` object with a string rather than a floating-point value. This is because floating-point values, by their nature, can introduce precision and rounding errors due to the way they are represented in binary.\n",
    "\n",
    "Here are a few reasons why starting a `Decimal` object with a string is preferred over a floating-point value:\n",
    "\n",
    "1. Accurate Representation:\n",
    "   Initializing a `Decimal` object with a string allows you to represent decimal numbers with exact precision. Decimal numbers stored as strings maintain their precise representation without any loss of information. On the other hand, floating-point numbers have inherent limitations and may introduce small errors due to rounding or binary representation.\n",
    "\n",
    "2. Avoiding Floating-Point Approximations:\n",
    "   Floating-point numbers in Python are implemented using the IEEE 754 standard, which represents numbers in binary form. However, certain decimal numbers cannot be precisely represented in binary format. As a result, floating-point operations can sometimes lead to unexpected rounding or approximation errors. By using a string to initialize a `Decimal` object, you can bypass these issues and work with decimal numbers accurately.\n",
    "\n",
    "3. Consistent Results:\n",
    "   Working with `Decimal` objects initialized from strings ensures consistent and predictable results across different platforms and Python implementations. The string representation provides a well-defined and unambiguous input, resulting in consistent behavior regardless of the underlying binary representation.\n",
    "\n",
    "Here's an example that demonstrates the difference between using a string and a floating-point value to initialize a `Decimal` object:\n",
    "\n",
    "```python\n",
    "from decimal import Decimal\n",
    "\n",
    "num_str = \"0.1\"\n",
    "num_float = 0.1\n",
    "\n",
    "decimal_str = Decimal(num_str)\n",
    "decimal_float = Decimal(num_float)\n",
    "\n",
    "print(decimal_str)       # Output: 0.1\n",
    "print(decimal_float)     # Output: 0.1000000000000000055511151231257827021181583404541015625\n",
    "```\n",
    "\n",
    "In this example, initializing a `Decimal` object with the string `\"0.1\"` produces the expected result of `0.1`. However, initializing it with the floating-point value `0.1` results in a long binary approximation due to the inherent limitations of representing the decimal value in binary.\n",
    "\n",
    "By starting a `Decimal` object with a string, you can maintain precision and avoid the precision and rounding errors that can arise when using floating-point values. This is particularly important when working with financial calculations, currency conversions, or any scenario where exact decimal precision is required."
   ]
  },
  {
   "cell_type": "code",
   "execution_count": null,
   "id": "73baacd7",
   "metadata": {},
   "outputs": [],
   "source": []
  },
  {
   "cell_type": "markdown",
   "id": "09501a07",
   "metadata": {},
   "source": [
    "5. In an arithmetic phrase, how simple is it to combine Decimal objects with integers"
   ]
  },
  {
   "cell_type": "markdown",
   "id": "5220c90d",
   "metadata": {},
   "source": [
    "Combining Decimal objects with integers in arithmetic expressions is straightforward and simple. The Decimal class in most programming languages that support decimal arithmetic provides built-in support for arithmetic operations between Decimal objects and integers.\n",
    "\n",
    "When performing arithmetic operations between a Decimal object and an integer, the integer is automatically converted to a Decimal object before the operation takes place. This automatic conversion ensures that the arithmetic is performed accurately and without any loss of precision.\n",
    "\n",
    "Here's an example in Python to illustrate the simplicity of combining Decimal objects with integers:"
   ]
  },
  {
   "cell_type": "code",
   "execution_count": 2,
   "id": "21e0b1e0",
   "metadata": {},
   "outputs": [
    {
     "name": "stdout",
     "output_type": "stream",
     "text": [
      "17.5\n",
      "73.5\n",
      "1.5\n"
     ]
    }
   ],
   "source": [
    "from decimal import Decimal\n",
    "\n",
    "decimal_number = Decimal('10.5')\n",
    "integer_number = 7\n",
    "\n",
    "result = decimal_number + integer_number\n",
    "print(result)  # Output: 17.5\n",
    "\n",
    "result = decimal_number * integer_number\n",
    "print(result)  # Output: 73.5\n",
    "\n",
    "result = decimal_number / integer_number\n",
    "print(result)  # Output: 1.5"
   ]
  },
  {
   "cell_type": "markdown",
   "id": "4b09927d",
   "metadata": {},
   "source": [
    "In the above code, the Decimal object decimal_number is combined with the integer integer_number using various arithmetic operations such as addition, multiplication, and division. The resulting calculations are accurate and produce the expected results.\n",
    "\n",
    "The simplicity of combining Decimal objects with integers extends to other arithmetic operations like subtraction, exponentiation, and more. The behavior is consistent with how Decimal objects handle arithmetic with other Decimal objects, ensuring precise and reliable calculations.\n",
    "\n",
    "It's worth noting that the automatic conversion of integers to Decimal objects happens implicitly behind the scenes. However, if we want to explicitly convert an integer to a Decimal object, we can do so using the constructor of the Decimal class, like Decimal(integer_number). This explicit conversion can be useful in scenarios where we need fine-grained control over the decimal representation or when working with user inputs or serialized data.\n",
    "\n",
    "\n",
    "\n",
    "\n",
    "\n",
    "\n"
   ]
  },
  {
   "cell_type": "code",
   "execution_count": null,
   "id": "2a386ec8",
   "metadata": {},
   "outputs": [],
   "source": []
  },
  {
   "cell_type": "markdown",
   "id": "929e590e",
   "metadata": {},
   "source": [
    "6. Can Decimal objects and floating-point values be combined easily?"
   ]
  },
  {
   "cell_type": "markdown",
   "id": "acb4cd88",
   "metadata": {},
   "source": [
    "Combining Decimal objects and floating-point values can be done, but it requires explicit conversion between the two data types. While the conversion itself is straightforward, it's important to be aware of potential precision and rounding issues that can arise due to the inherent differences between decimal and floating-point representations.\n",
    "\n",
    "In most programming languages, we can convert a floating-point value to a Decimal object using the constructor of the Decimal class. This conversion ensures that the floating-point value is accurately represented as a decimal number with the desired precision.\n",
    "\n",
    "Here's an example in Python to demonstrate combining Decimal objects with floating-point values:"
   ]
  },
  {
   "cell_type": "code",
   "execution_count": 3,
   "id": "85b92da3",
   "metadata": {},
   "outputs": [
    {
     "name": "stdout",
     "output_type": "stream",
     "text": [
      "13.7\n",
      "33.60\n",
      "3.28125\n"
     ]
    }
   ],
   "source": [
    "from decimal import Decimal\n",
    "\n",
    "decimal_number = Decimal('10.5')\n",
    "floating_point_number = 3.2\n",
    "\n",
    "# Convert the floating-point value to a Decimal object\n",
    "floating_point_decimal = Decimal(str(floating_point_number))\n",
    "\n",
    "result = decimal_number + floating_point_decimal\n",
    "print(result)  # Output: 13.7\n",
    "\n",
    "result = decimal_number * floating_point_decimal\n",
    "print(result)  # Output: 33.6\n",
    "\n",
    "result = decimal_number / floating_point_decimal\n",
    "print(result)  # Output: 3.28125"
   ]
  },
  {
   "cell_type": "markdown",
   "id": "adda1846",
   "metadata": {},
   "source": [
    "It's important to note that when combining Decimal objects with floating-point values, there can be precision discrepancies due to the limitations of floating-point representations. The accuracy and precision of the resulting calculations depend on the specific floating-point value and the desired decimal precision.\n",
    "\n",
    "To mitigate precision issues, it is generally recommended to perform calculations with Decimal objects whenever high precision is required. If we need to combine Decimal objects with floating-point values, make sure to convert the floating-point values to Decimal objects explicitly and be aware of potential rounding errors or precision loss that may occur during the conversion and subsequent calculations."
   ]
  },
  {
   "cell_type": "code",
   "execution_count": null,
   "id": "c1bc4ebd",
   "metadata": {},
   "outputs": [],
   "source": []
  },
  {
   "cell_type": "markdown",
   "id": "ec4e045d",
   "metadata": {},
   "source": [
    "7. Using the Fraction class but not the Decimal class, give an example of a quantity that can be\n",
    "expressed with absolute precision."
   ]
  },
  {
   "cell_type": "markdown",
   "id": "ca338630",
   "metadata": {},
   "source": [
    "The Fraction class provides an exact representation of rational numbers without any loss of precision. With the Fraction class, you can express quantities that can be represented as a fraction with absolute precision. Here's an example:"
   ]
  },
  {
   "cell_type": "code",
   "execution_count": 4,
   "id": "b6aa0d73",
   "metadata": {},
   "outputs": [
    {
     "name": "stdout",
     "output_type": "stream",
     "text": [
      "3/4\n"
     ]
    }
   ],
   "source": [
    "from fractions import Fraction\n",
    "\n",
    "quantity = Fraction(3, 4)\n",
    "print(quantity)  "
   ]
  },
  {
   "cell_type": "markdown",
   "id": "0b57e2b4",
   "metadata": {},
   "source": [
    "In the above code, the Fraction object quantity represents the quantity 3/4. The Fraction class internally stores the numerator and denominator of the fraction, allowing for exact representation without any rounding or approximation.\n",
    "\n",
    "Unlike floating-point or decimal representations, the Fraction class can accurately handle fractional values and perform arithmetic operations while preserving the exactness of the quantity. It avoids any loss of precision associated with finite binary or decimal representations.\n",
    "\n",
    "The Fraction class is particularly useful in scenarios where exact fractional representation is necessary, such as in mathematics, engineering, or when working with ratios or proportions."
   ]
  },
  {
   "cell_type": "code",
   "execution_count": null,
   "id": "2e586dd8",
   "metadata": {},
   "outputs": [],
   "source": []
  },
  {
   "cell_type": "markdown",
   "id": "110316ca",
   "metadata": {},
   "source": [
    "8. Describe a quantity that can be accurately expressed by the Decimal or Fraction classes but not by\n",
    "a floating-point value."
   ]
  },
  {
   "cell_type": "markdown",
   "id": "059f53ba",
   "metadata": {},
   "source": [
    "A quantity that can be accurately expressed by the `Decimal` or `Fraction` classes but not by a floating-point value is a repeating or non-terminating decimal.\n",
    "\n",
    "Floating-point numbers in most programming languages use binary representation, which can lead to precision loss when representing certain decimal values. As a result, numbers with repeating or non-terminating decimal expansions cannot be accurately represented by floating-point values.\n",
    "\n",
    "Let's take an example of the number 1/3, which has a repeating decimal representation:\n",
    "\n",
    "Using the `Fraction` class:\n",
    "```python\n",
    "from fractions import Fraction\n",
    "\n",
    "fraction = Fraction(1, 3)\n",
    "print(fraction)  # Output: 1/3\n",
    "```\n",
    "\n",
    "Using the `Decimal` class:\n",
    "```python\n",
    "from decimal import Decimal\n",
    "\n",
    "decimal = Decimal('0.3333333333333333333333333333')\n",
    "print(decimal)  # Output: 0.3333333333333333333333333333\n",
    "```\n",
    "\n",
    "In the above code, the `Fraction` object and the `Decimal` object accurately represent the quantity 1/3, which has a repeating decimal expansion of 0.3333333333...\n",
    "\n",
    "However, if we try to represent the same quantity using a floating-point value, we'll encounter precision loss:\n",
    "\n",
    "```python\n",
    "floating_point = 1 / 3\n",
    "print(floating_point)  # Output: 0.3333333333333333\n",
    "```\n",
    "\n",
    "The floating-point representation of 1/3 introduces rounding and approximation errors due to the limitations of binary representation. The result is not an exact representation of the quantity and differs from the accurate representations provided by the `Decimal` or `Fraction` classes.\n",
    "\n",
    "This example demonstrates how the `Decimal` and `Fraction` classes can accurately represent quantities with repeating or non-terminating decimal expansions, while floating-point values may introduce precision loss and approximation errors in such cases."
   ]
  },
  {
   "cell_type": "code",
   "execution_count": null,
   "id": "c45f14c5",
   "metadata": {},
   "outputs": [],
   "source": []
  },
  {
   "cell_type": "markdown",
   "id": "541a3231",
   "metadata": {},
   "source": [
    "Q9.Consider the following two fraction objects: Fraction(1, 2) and Fraction(1, 2). (5, 10). Is the internal\n",
    "state of these two objects the same? Why do you think that is?"
   ]
  },
  {
   "cell_type": "markdown",
   "id": "1b72323e",
   "metadata": {},
   "source": [
    "The internal state of the Fraction objects Fraction(1, 2) and Fraction(1, 2).limit_denominator(10) is not the same, even though their rational values are equivalent.\n",
    "\n",
    "The Fraction class in most programming languages typically simplifies fractions to their lowest terms by dividing both the numerator and denominator by their greatest common divisor (GCD). This simplification ensures that the Fraction objects are in their reduced form.\n",
    "\n",
    "Let's compare the internal state of the two Fraction objects:"
   ]
  },
  {
   "cell_type": "code",
   "execution_count": 6,
   "id": "45068de7",
   "metadata": {},
   "outputs": [
    {
     "name": "stdout",
     "output_type": "stream",
     "text": [
      "1/2\n",
      "1/2\n"
     ]
    }
   ],
   "source": [
    "from fractions import Fraction\n",
    "\n",
    "fraction1 = Fraction(1, 2)\n",
    "fraction2 = Fraction(5, 10)\n",
    "\n",
    "print(fraction1)  \n",
    "print(fraction2)  "
   ]
  },
  {
   "cell_type": "markdown",
   "id": "08e1422c",
   "metadata": {},
   "source": [
    "Even though fraction1 and fraction2 have different initial representations, they both simplify to the equivalent fraction 1/2. When printed or converted to a string, both objects appear as \"1/2.\"\n",
    "\n",
    "However, internally, the Fraction objects store their numerator and denominator separately. By default, the Fraction class automatically simplifies fractions to their lowest terms, so the internal states of fraction1 and fraction2 would be different.\n",
    "\n",
    "If we compare their internal states explicitly, we can see the difference:"
   ]
  },
  {
   "cell_type": "code",
   "execution_count": 7,
   "id": "156c7b33",
   "metadata": {},
   "outputs": [
    {
     "name": "stdout",
     "output_type": "stream",
     "text": [
      "1 2\n",
      "1 2\n"
     ]
    }
   ],
   "source": [
    "print(fraction1.numerator, fraction1.denominator)  \n",
    "print(fraction2.numerator, fraction2.denominator)  "
   ]
  },
  {
   "cell_type": "markdown",
   "id": "6819a8ed",
   "metadata": {},
   "source": [
    "In this case, both fraction1 and fraction2 have the same internal state, which is numerator=1 and denominator=2. However, if we had used a different denominator for fraction2, such as Fraction(5, 8), the internal state would have been different.\n",
    "\n",
    "The reason for the internal state being the same is due to the automatic simplification performed by the Fraction class. It ensures that fractions are represented in their reduced form, which means the numerator and denominator are divided by their GCD. As a result, equivalent fractions end up having the same internal state, even if they were initially represented differently."
   ]
  },
  {
   "cell_type": "code",
   "execution_count": null,
   "id": "25b9346c",
   "metadata": {},
   "outputs": [],
   "source": []
  },
  {
   "cell_type": "markdown",
   "id": "284da59a",
   "metadata": {},
   "source": [
    "Q10. How do the Fraction class and the integer type (int) relate to each other? Containment or\n",
    "inheritance?"
   ]
  },
  {
   "cell_type": "markdown",
   "id": "170f7d0b",
   "metadata": {},
   "source": [
    "The Fraction class and the int type (integer) are related to each other through containment or composition, rather than inheritance.\n",
    "\n",
    "In object-oriented programming, containment or composition refers to a relationship where one class contains an instance of another class as a member or attribute, rather than inheriting from it.\n",
    "\n",
    "The Fraction class is typically implemented as a standalone class that represents rational numbers as fractions, storing the numerator and denominator internally. It does not inherit from the int type or vice versa. However, instances of the Fraction class can be constructed using int values, and int values can be converted to Fraction objects.\n",
    "\n",
    "Here's an example to illustrate the relationship between Fraction and int:"
   ]
  },
  {
   "cell_type": "code",
   "execution_count": 13,
   "id": "b32882d5",
   "metadata": {},
   "outputs": [
    {
     "name": "stdout",
     "output_type": "stream",
     "text": [
      "5\n",
      "7070651414971679/2251799813685248\n"
     ]
    }
   ],
   "source": [
    "from fractions import Fraction\n",
    "\n",
    "fraction = Fraction(3, 4)\n",
    "integer = 5\n",
    "\n",
    "# Creating a Fraction object using an int value\n",
    "fraction_from_integer = Fraction(integer)\n",
    "print(fraction_from_integer)  # Output: 5/1\n",
    "\n",
    "# Converting an int value to a Fraction object\n",
    "fraction_from_conversion = Fraction.from_float(3.14)\n",
    "print(fraction_from_conversion)  # Output: 157/50"
   ]
  },
  {
   "cell_type": "markdown",
   "id": "8774a6f5",
   "metadata": {},
   "source": [
    "In the above code, we can see that an int value (5) can be used to construct a Fraction object (fraction_from_integer). Similarly, an int value can be converted to a Fraction object using methods like Fraction.from_float().\n",
    "\n",
    "The relationship between Fraction and int is based on the ability to convert between the two types and use int values in Fraction operations. However, Fraction and int are distinct types, and there is no inheritance relationship between them.\n",
    "\n",
    "To summarize, the relationship between the Fraction class and the int type is one of containment or composition, where int values can be contained within Fraction objects or converted to Fraction objects."
   ]
  },
  {
   "cell_type": "code",
   "execution_count": null,
   "id": "9c9fd381",
   "metadata": {},
   "outputs": [],
   "source": []
  }
 ],
 "metadata": {
  "kernelspec": {
   "display_name": "Python 3 (ipykernel)",
   "language": "python",
   "name": "python3"
  },
  "language_info": {
   "codemirror_mode": {
    "name": "ipython",
    "version": 3
   },
   "file_extension": ".py",
   "mimetype": "text/x-python",
   "name": "python",
   "nbconvert_exporter": "python",
   "pygments_lexer": "ipython3",
   "version": "3.9.12"
  }
 },
 "nbformat": 4,
 "nbformat_minor": 5
}
