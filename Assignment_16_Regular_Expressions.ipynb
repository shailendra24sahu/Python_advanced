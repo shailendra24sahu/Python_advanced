{
 "cells": [
  {
   "cell_type": "markdown",
   "id": "017b582c",
   "metadata": {},
   "source": [
    "Q1. What is the benefit of regular expressions?"
   ]
  },
  {
   "cell_type": "markdown",
   "id": "352e86e3",
   "metadata": {},
   "source": [
    "Regular expressions (regex) are a powerful tool used for pattern matching and manipulating text. They offer several benefits:\n",
    "\n",
    "1. Pattern matching: Regular expressions enable us to search for specific patterns within text. This can be useful for tasks such as validating input, finding specific words or phrases, extracting data from structured text, or filtering and manipulating data.\n",
    "\n",
    "2. Flexibility: Regular expressions provide a flexible and concise way to describe complex patterns. They allow us to define rules using metacharacters, quantifiers, character classes, and other constructs to match specific patterns of characters.\n",
    "\n",
    "3. Text manipulation: Regular expressions not only help us find patterns but also allow us to manipulate and transform text. We can perform actions like replacing text, extracting substrings, or reformatting data based on matching patterns.\n",
    "\n",
    "4. Efficiency: Regular expressions are highly optimized for pattern matching, making them efficient even when working with large amounts of text. The regular expression engine uses various algorithms and optimizations to quickly search and match patterns.\n",
    "\n",
    "5. Cross-platform compatibility: Regular expressions are supported in numerous programming languages and tools, making them highly portable. Once we learn regex, we can apply our knowledge across different platforms and programming languages.\n",
    "\n",
    "6. Time-saving: With regular expressions, we can accomplish complex text processing tasks in a concise manner. They can help reduce the amount of code we need to write and make our programs more efficient, saving development time.\n",
    "\n",
    "7. Widely used: Regular expressions are widely used in many fields, including programming, text processing, data extraction, web development, data science, and system administration. Familiarity with regular expressions can enhance our ability to work with textual data in various domains.\n",
    "\n",
    "Despite their benefits, regular expressions can be challenging to master, especially when dealing with complex patterns. However, once we become proficient in using regular expressions, they become a valuable tool in our programming and text processing arsenal."
   ]
  },
  {
   "cell_type": "code",
   "execution_count": null,
   "id": "2dba8edb",
   "metadata": {},
   "outputs": [],
   "source": []
  },
  {
   "cell_type": "markdown",
   "id": "9da891cf",
   "metadata": {},
   "source": [
    "Q2. Describe the difference between the effects of &quot;(ab)c+&quot; and &quot;a(bc)+.&quot; Which of these, if any, is the\n",
    "unqualified pattern &quot;abc+&quot;?"
   ]
  },
  {
   "cell_type": "markdown",
   "id": "1e366da5",
   "metadata": {},
   "source": [
    "Let's break down the two regular expressions:\n",
    "\n",
    "1. \"(ab)c+\":\n",
    "   - This pattern matches a sequence that starts with \"ab\" and is followed by one or more occurrences of the letter \"c\". The letter \"c\" can appear multiple times consecutively.\n",
    "   - Examples of strings that match this pattern: \"abc\", \"abcc\", \"abccc\", etc.\n",
    "\n",
    "2. \"a(bc)+\":\n",
    "   - This pattern matches a sequence that starts with the letter \"a\" followed by the string \"bc\" repeated one or more times. The group \"(bc)\" can appear multiple times consecutively.\n",
    "   - Examples of strings that match this pattern: \"abc\", \"abcbc\", \"abcbcbc\", etc.\n",
    "\n",
    "Now, let's discuss the unqualified pattern \"abc+\":\n",
    "\n",
    "The unqualified pattern \"abc+\" matches the string \"abc\" followed by one or more occurrences of the letter \"c\". The letter \"c\" can appear multiple times consecutively.\n",
    "Example strings that match this pattern: \"abc\", \"abcc\", \"abccc\", etc.\n",
    "\n",
    "So, to summarize:\n",
    "- \"(ab)c+\" matches strings that start with \"ab\" followed by one or more occurrences of \"c\".\n",
    "- \"a(bc)+\" matches strings that start with \"a\" followed by the sequence \"bc\" repeated one or more times.\n",
    "- \"abc+\" matches strings that start with \"abc\" followed by one or more occurrences of \"c\".\n",
    "\n",
    "Each of these regular expressions has a slightly different pattern and matches different types of strings."
   ]
  },
  {
   "cell_type": "code",
   "execution_count": null,
   "id": "a75031ef",
   "metadata": {},
   "outputs": [],
   "source": []
  },
  {
   "cell_type": "markdown",
   "id": "4805b026",
   "metadata": {},
   "source": [
    "Q3. How much do you need to use the following sentence while using regular expressions?\n",
    "\n",
    "import re"
   ]
  },
  {
   "cell_type": "markdown",
   "id": "8d9e1880",
   "metadata": {},
   "source": [
    "\n",
    "The sentence \"import re\" is commonly used in programming languages, particularly Python, when working with regular expressions. It is used to import the regular expression module/library, which provides functions and methods for working with regular expressions.\n",
    "\n",
    "In Python, the \"re\" module is part of the standard library, so we need to import it before using regular expressions in our code. Once imported, we can access the various functions and methods provided by the \"re\" module to work with regular expressions.\n",
    "\n",
    "Here's an example of how \"import re\" is typically used in Python:"
   ]
  },
  {
   "cell_type": "code",
   "execution_count": 1,
   "id": "e87948d9",
   "metadata": {},
   "outputs": [
    {
     "name": "stdout",
     "output_type": "stream",
     "text": [
      "['Hello', 'World', 'This', 'is', 'a', 'sample', 'text']\n"
     ]
    }
   ],
   "source": [
    "import re\n",
    "\n",
    "# Example usage of regular expressions\n",
    "pattern = r'\\b[A-Za-z]+\\b'\n",
    "text = 'Hello, World! This is a sample text.'\n",
    "\n",
    "matches = re.findall(pattern, text)\n",
    "print(matches)  "
   ]
  },
  {
   "cell_type": "markdown",
   "id": "d26d7220",
   "metadata": {},
   "source": [
    "In the above example, we import the \"re\" module at the beginning. Then we use the re.findall() function from the \"re\" module to find all occurrences of words in the given text. The resulting matches are then printed.\n",
    "\n",
    "So, to utilize regular expressions in Python, it is common to include the \"import re\" statement at the beginning of our code."
   ]
  },
  {
   "cell_type": "code",
   "execution_count": null,
   "id": "87420b7d",
   "metadata": {},
   "outputs": [],
   "source": []
  },
  {
   "cell_type": "markdown",
   "id": "87edc246",
   "metadata": {},
   "source": [
    "Q4. Which characters have special significance in square brackets when expressing a range, and\n",
    "under what circumstances?"
   ]
  },
  {
   "cell_type": "markdown",
   "id": "8cb5245d",
   "metadata": {},
   "source": [
    "In square brackets, when expressing a range in a regular expression pattern, certain characters have special significance. The characters with special significance in square brackets are:\n",
    "\n",
    "1. Hyphen (-): The hyphen is used to specify a range of characters within the square brackets. For example, [a-z] represents any lowercase letter from \"a\" to \"z\" inclusive.\n",
    "\n",
    "2. Caret (^): When the caret appears as the first character within the square brackets, it negates the character class. It indicates that the pattern should match any character except the ones specified in the square brackets. For example, [^0-9] matches any character that is not a digit.\n",
    "\n",
    "3. Backslash (\\): In some regex flavors, including Python, a backslash is used to escape special characters within square brackets. For example, if we want to match a literal hyphen within square brackets, we would escape it as \\-. Similarly, if we want to match a literal caret, we would escape it as \\^.\n",
    "\n",
    "Other characters within square brackets usually do not have special significance and match themselves literally. However, it's worth noting that the closing square bracket (]) itself can have special significance if it is the first character within the square brackets. In such cases, it is typically placed as the first character after the opening square bracket ([) to avoid confusion.\n",
    "\n",
    "It's important to remember that the special characters may vary slightly depending on the regex flavor and programming language we are using. Therefore, it's always recommended to consult the documentation or reference materials specific to our chosen regex implementation."
   ]
  },
  {
   "cell_type": "code",
   "execution_count": 1,
   "id": "6dbb0225",
   "metadata": {},
   "outputs": [
    {
     "name": "stdout",
     "output_type": "stream",
     "text": [
      "['e', 'l', 'l', 'o', 'o', 'r', 'l', 'd']\n",
      "['1', '2', '3']\n",
      "['H', 'e', 'l', 'l', 'o', ' ', ' ', 'W', 'o', 'r', 'l', 'd']\n"
     ]
    }
   ],
   "source": [
    "import re\n",
    "\n",
    "# Matching lowercase letters\n",
    "result = re.findall('[a-z]', 'Hello World')\n",
    "print(result)  # Output: ['e', 'l', 'l', 'o', 'o', 'r', 'l', 'd']\n",
    "\n",
    "# Matching digits\n",
    "result = re.findall('[0-9]', 'Hello 123 World')\n",
    "print(result)  # Output: ['1', '2', '3']\n",
    "\n",
    "# Negating a character class\n",
    "result = re.findall('[^0-9]', 'Hello 123 World')\n",
    "print(result)  # Output: ['H', 'e', 'l', 'l', 'o', ' ', 'W', 'o', 'r', 'l', 'd']\n"
   ]
  },
  {
   "cell_type": "code",
   "execution_count": null,
   "id": "f65925aa",
   "metadata": {},
   "outputs": [],
   "source": []
  },
  {
   "cell_type": "markdown",
   "id": "a9b6f432",
   "metadata": {},
   "source": [
    "Q5. How does compiling a regular-expression object benefit you?"
   ]
  },
  {
   "cell_type": "markdown",
   "id": "facd7142",
   "metadata": {},
   "source": [
    "Compiling a regular expression object provides several benefits:\n",
    "\n",
    "1. Improved performance: Compiling a regular expression object allows the regex engine to pre-process and optimize the pattern. This can result in improved performance when applying the pattern to multiple strings. By compiling the regex once and reusing the compiled object, we avoid the overhead of re-analyzing and preparing the pattern for each match operation.\n",
    "\n",
    "2. Code readability and maintainability: By compiling the regular expression object, we can assign it to a variable with a descriptive name. This improves the readability of our code by providing a meaningful reference to the pattern. It also makes our code more maintainable as we can easily reuse the compiled object in different parts of our program without duplicating the regex pattern.\n",
    "\n",
    "3. Access to additional methods and options: Many regex libraries provide additional methods and options that can be accessed through the compiled object. These methods may include advanced search operations, capturing group manipulation, or flags to control the behavior of the regex matching. By compiling the regex into an object, we gain access to these extended functionalities.\n",
    "\n",
    "4. Error handling: Compiling a regular expression object allows us to catch and handle syntax errors or invalid patterns during the compilation stage. This helps we identify and address regex-related issues early on, improving the robustness and reliability of our code.\n",
    "\n",
    "5. Portability: In some programming languages, compiling a regular expression object provides a level of portability. Once compiled, the regex object can be shared and used across different parts of our code or even different modules, ensuring consistent behavior and results.\n",
    "\n",
    "It's important to note that not all regex implementations require explicit compilation. Some languages automatically compile regular expressions behind the scenes when we use them. However, explicit compilation is beneficial when we want to take advantage of the aforementioned advantages or when working with languages that provide explicit regex compilation options."
   ]
  },
  {
   "cell_type": "code",
   "execution_count": null,
   "id": "ce481876",
   "metadata": {},
   "outputs": [],
   "source": []
  },
  {
   "cell_type": "markdown",
   "id": "d59ebda0",
   "metadata": {},
   "source": [
    "Q6. What are some examples of how to use the match object returned by re.match and re.search?"
   ]
  },
  {
   "cell_type": "markdown",
   "id": "07e0d166",
   "metadata": {},
   "source": [
    "When using the re.match() and re.search() functions in Python's re module, they return a match object that provides information about the matched pattern. Here are some examples of how to use the match object:\n",
    "\n",
    "1. Accessing the matched string:"
   ]
  },
  {
   "cell_type": "code",
   "execution_count": 2,
   "id": "02d19e64",
   "metadata": {},
   "outputs": [
    {
     "name": "stdout",
     "output_type": "stream",
     "text": [
      "Hello\n"
     ]
    }
   ],
   "source": [
    "import re\n",
    "\n",
    "text = \"Hello, World!\"\n",
    "pattern = r\"Hello\"\n",
    "\n",
    "match = re.match(pattern, text)\n",
    "if match:\n",
    "    matched_string = match.group()  # Access the matched string\n",
    "    print(matched_string)"
   ]
  },
  {
   "cell_type": "markdown",
   "id": "54745c43",
   "metadata": {},
   "source": [
    "2. Extracting groups:"
   ]
  },
  {
   "cell_type": "code",
   "execution_count": 3,
   "id": "173c602b",
   "metadata": {},
   "outputs": [
    {
     "name": "stdout",
     "output_type": "stream",
     "text": [
      "John Doe\n"
     ]
    }
   ],
   "source": [
    "import re\n",
    "\n",
    "text = \"John Doe\"\n",
    "pattern = r\"(John) (Doe)\"\n",
    "\n",
    "match = re.match(pattern, text)\n",
    "if match:\n",
    "    first_name = match.group(1)  # Access the first captured group\n",
    "    last_name = match.group(2)  # Access the second captured group\n",
    "    print(first_name, last_name) "
   ]
  },
  {
   "cell_type": "code",
   "execution_count": null,
   "id": "cd88fea8",
   "metadata": {},
   "outputs": [],
   "source": []
  },
  {
   "cell_type": "markdown",
   "id": "123c58ad",
   "metadata": {},
   "source": [
    "3. Obtaining start and end positions of the match:"
   ]
  },
  {
   "cell_type": "code",
   "execution_count": 5,
   "id": "ee4a419d",
   "metadata": {},
   "outputs": [
    {
     "name": "stdout",
     "output_type": "stream",
     "text": [
      "7 12\n"
     ]
    }
   ],
   "source": [
    "import re\n",
    "\n",
    "text = \"Hello, World!\"\n",
    "pattern = r\"World\"\n",
    "\n",
    "match = re.search(pattern, text)\n",
    "if match:\n",
    "    start_position = match.start()  # Start position of the match\n",
    "    end_position = match.end()  # End position of the match\n",
    "    print(start_position, end_position) "
   ]
  },
  {
   "cell_type": "markdown",
   "id": "90fe1af2",
   "metadata": {},
   "source": [
    "4. Retrieving multiple matches using re.findall():"
   ]
  },
  {
   "cell_type": "code",
   "execution_count": 6,
   "id": "32ee348b",
   "metadata": {},
   "outputs": [
    {
     "name": "stdout",
     "output_type": "stream",
     "text": [
      "['apple', 'banana', 'cherry']\n"
     ]
    }
   ],
   "source": [
    "import re\n",
    "\n",
    "text = \"apple, banana, cherry\"\n",
    "pattern = r\"\\w+\"\n",
    "\n",
    "matches = re.findall(pattern, text)\n",
    "print(matches)"
   ]
  },
  {
   "cell_type": "markdown",
   "id": "a72fe639",
   "metadata": {},
   "source": [
    "5. Iterating over multiple matches using re.finditer():"
   ]
  },
  {
   "cell_type": "code",
   "execution_count": 7,
   "id": "5a56ef16",
   "metadata": {},
   "outputs": [
    {
     "name": "stdout",
     "output_type": "stream",
     "text": [
      "apple\n",
      "banana\n",
      "cherry\n"
     ]
    }
   ],
   "source": [
    "import re\n",
    "\n",
    "text = \"apple, banana, cherry\"\n",
    "pattern = r\"\\w+\"\n",
    "\n",
    "for match in re.finditer(pattern, text):\n",
    "    matched_string = match.group()\n",
    "    print(matched_string)"
   ]
  },
  {
   "cell_type": "markdown",
   "id": "89ada18d",
   "metadata": {},
   "source": [
    "These examples showcase some common ways to utilize the match object returned by re.match() and re.search(). The match object provides various methods and attributes that allow us to access information about the matched pattern, such as the matched string, captured groups, and position within the original text."
   ]
  },
  {
   "cell_type": "code",
   "execution_count": null,
   "id": "591dc5ce",
   "metadata": {},
   "outputs": [],
   "source": []
  },
  {
   "cell_type": "markdown",
   "id": "5b53de89",
   "metadata": {},
   "source": [
    "Q7. What is the difference between using a vertical bar (|) as an alteration and using square brackets\n",
    "as a character set?"
   ]
  },
  {
   "cell_type": "markdown",
   "id": "eccaddc3",
   "metadata": {},
   "source": [
    "The vertical bar (|) and square brackets ([]), when used in regular expressions, have different purposes:\n",
    "\n",
    "1. Vertical bar (|) as an alteration:\n",
    "The vertical bar, also known as the pipe symbol, is used to specify alternation in regular expressions. It allows us to match one pattern or another. For example, the regex pattern cat|dog would match either \"cat\" or \"dog\" in the input text. It is useful when we want to match multiple alternative patterns at a particular position in the text.\n",
    "\n",
    "Example:`"
   ]
  },
  {
   "cell_type": "code",
   "execution_count": 9,
   "id": "bcfb61fc",
   "metadata": {},
   "outputs": [
    {
     "name": "stdout",
     "output_type": "stream",
     "text": [
      "['cat', 'dog']\n"
     ]
    }
   ],
   "source": [
    "import re\n",
    "\n",
    "text = \"I have a cat and a dog.\"\n",
    "pattern = r\"cat|dog\"\n",
    "\n",
    "matches = re.findall(pattern, text)\n",
    "print(matches)  "
   ]
  },
  {
   "cell_type": "markdown",
   "id": "fc6695d7",
   "metadata": {},
   "source": [
    "2. Square brackets ([]) as a character set:\n",
    "Square brackets in regular expressions are used to define a character set or character class. They allow us to specify a range or a set of characters that can match at a particular position. For example, the regex pattern [aeiou] would match any single vowel character.\n",
    "\n",
    "Example:"
   ]
  },
  {
   "cell_type": "code",
   "execution_count": 10,
   "id": "2e5e27f8",
   "metadata": {},
   "outputs": [
    {
     "name": "stdout",
     "output_type": "stream",
     "text": [
      "['a', 'e', 'a', 'a', 'a', 'a', 'o']\n"
     ]
    }
   ],
   "source": [
    "import re\n",
    "\n",
    "text = \"I have a cat and a dog.\"\n",
    "pattern = r\"[aeiou]\"\n",
    "\n",
    "matches = re.findall(pattern, text)\n",
    "print(matches)  "
   ]
  },
  {
   "cell_type": "markdown",
   "id": "95127850",
   "metadata": {},
   "source": [
    "Additionally, square brackets can also be used to specify a negated character set by placing a caret (^) at the beginning of the square brackets. For example, the regex pattern [^0-9] matches any character that is not a digit.\n",
    "\n",
    "Example:"
   ]
  },
  {
   "cell_type": "code",
   "execution_count": 11,
   "id": "34323e66",
   "metadata": {},
   "outputs": [
    {
     "name": "stdout",
     "output_type": "stream",
     "text": [
      "['I', ' ', 'h', 'a', 'v', 'e', ' ', ' ', 'c', 'a', 't', 's', '.']\n"
     ]
    }
   ],
   "source": [
    "import re\n",
    "\n",
    "text = \"I have 3 cats.\"\n",
    "pattern = r\"[^0-9]\"\n",
    "\n",
    "matches = re.findall(pattern, text)\n",
    "print(matches) "
   ]
  },
  {
   "cell_type": "code",
   "execution_count": null,
   "id": "51a7fec6",
   "metadata": {},
   "outputs": [],
   "source": []
  },
  {
   "cell_type": "markdown",
   "id": "791a143e",
   "metadata": {},
   "source": [
    "Q8. In regular-expression search patterns, why is it necessary to use the raw-string indicator (r)? In  \n",
    "replacement strings?"
   ]
  },
  {
   "cell_type": "markdown",
   "id": "a0c37454",
   "metadata": {},
   "source": [
    "In regular expression search patterns, using the raw-string indicator (`r`) is not strictly necessary, but it is highly recommended for better pattern readability and to avoid potential issues with backslashes and escape sequences.\n",
    "\n",
    "When defining a regular expression pattern in Python, the raw-string indicator (`r`) allows we to create a raw string literal. In a raw string, backslashes are treated as literal characters rather than escape characters. This is important because regular expressions often contain backslashes for special characters or escape sequences, such as `\\d`, `\\s`, or `\\n`.\n",
    "\n",
    "Using a raw string for regular expression patterns helps prevent unintended behavior due to Python's string literal handling. Without the raw-string indicator, we would need to escape backslashes that are part of regular expression patterns. For example, `\\\\d` instead of `\\d`. However, this can quickly become cumbersome and error-prone, especially when dealing with complex regular expressions.\n",
    "\n",
    "Example without raw-string indicator:\n",
    "```python\n",
    "pattern = \"\\\\d{2}-\\\\d{2}-\\\\d{4}\"  # Escaped backslashes\n",
    "```\n",
    "\n",
    "Example with raw-string indicator:\n",
    "```python\n",
    "pattern = r\"\\d{2}-\\d{2}-\\d{4}\"  # Raw string, backslashes are treated as literal characters\n",
    "```\n",
    "\n",
    "Similarly, when using replacement strings with the `re.sub()` function, it is recommended to use raw strings to ensure the replacement string is interpreted as expected. This helps avoid unintended substitutions or unexpected behavior due to backslashes being treated as escape characters in regular Python strings.\n",
    "\n",
    "Example without raw-string indicator:\n",
    "```python\n",
    "text = \"Hello, world!\"\n",
    "new_text = re.sub(r\"world\", \"\\\\1\", text)  # Incorrect substitution due to escaped backslash\n",
    "```\n",
    "\n",
    "Example with raw-string indicator:\n",
    "```python\n",
    "text = \"Hello, world!\"\n",
    "new_text = re.sub(r\"world\", r\"\\1\", text)  # Correct substitution using raw string\n",
    "```\n",
    "\n",
    "In summary, using the raw-string indicator (`r`) in regular-expression search patterns and replacement strings improves pattern readability and reduces the likelihood of introducing errors caused by unintended backslash interpretation."
   ]
  },
  {
   "cell_type": "code",
   "execution_count": null,
   "id": "73c0a68f",
   "metadata": {},
   "outputs": [],
   "source": []
  }
 ],
 "metadata": {
  "kernelspec": {
   "display_name": "Python 3 (ipykernel)",
   "language": "python",
   "name": "python3"
  },
  "language_info": {
   "codemirror_mode": {
    "name": "ipython",
    "version": 3
   },
   "file_extension": ".py",
   "mimetype": "text/x-python",
   "name": "python",
   "nbconvert_exporter": "python",
   "pygments_lexer": "ipython3",
   "version": "3.10.9"
  }
 },
 "nbformat": 4,
 "nbformat_minor": 5
}
