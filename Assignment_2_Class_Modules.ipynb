{
 "cells": [
  {
   "cell_type": "markdown",
   "id": "09a54eab",
   "metadata": {},
   "source": [
    "Q1. What is the relationship between classes and modules?"
   ]
  },
  {
   "cell_type": "markdown",
   "id": "d70bbfe8",
   "metadata": {},
   "source": [
    "Modules are collections of classes, methods and variables. They cannot generate instances. Classes may generate instances (objects), and have per-instance state (instance variables)."
   ]
  },
  {
   "cell_type": "code",
   "execution_count": null,
   "id": "7cacf2fd",
   "metadata": {},
   "outputs": [],
   "source": []
  },
  {
   "cell_type": "markdown",
   "id": "4e0b7250",
   "metadata": {},
   "source": [
    "Q2. How do you make instances and classes?"
   ]
  },
  {
   "cell_type": "markdown",
   "id": "ec244b71",
   "metadata": {},
   "source": [
    "- In Python, a class can be created by using the keyword class, followed by the class name and a colon after the class name. Inside it we define class constructor, methods and variable.\n",
    "- To create instances of a class, you call the class using class name and pass in whatever arguments its __init__ method accepts."
   ]
  },
  {
   "cell_type": "code",
   "execution_count": null,
   "id": "267957bb",
   "metadata": {},
   "outputs": [],
   "source": []
  },
  {
   "cell_type": "markdown",
   "id": "7ad67495",
   "metadata": {},
   "source": [
    "Q3. Where and how should be class attributes created?"
   ]
  },
  {
   "cell_type": "markdown",
   "id": "5a88f7ea",
   "metadata": {},
   "source": [
    "Class attributes are the variables defined directly in the class that are shared by all objects of the class."
   ]
  },
  {
   "cell_type": "code",
   "execution_count": null,
   "id": "047d64ea",
   "metadata": {},
   "outputs": [],
   "source": []
  },
  {
   "cell_type": "markdown",
   "id": "0dcec816",
   "metadata": {},
   "source": [
    "Q4. Where and how are instance attributes created?"
   ]
  },
  {
   "cell_type": "markdown",
   "id": "d80d5d16",
   "metadata": {},
   "source": [
    " Instance attributes are attributes or properties attached to an instance of a class. Instance attributes are defined in the constructor. Defined directly inside a class."
   ]
  },
  {
   "cell_type": "code",
   "execution_count": null,
   "id": "4686a0fb",
   "metadata": {},
   "outputs": [],
   "source": []
  },
  {
   "cell_type": "markdown",
   "id": "160297b3",
   "metadata": {},
   "source": [
    "Q5. What does the term &quot;self&quot; in a Python class mean?"
   ]
  },
  {
   "cell_type": "markdown",
   "id": "48d64d7e",
   "metadata": {},
   "source": [
    " Self is the default variable which is always pointing to current object. By using self we can access instance variables and instance methods of object. It is not a keyword and has no special meaning in Python. We could use other names (like this) but it is highly discouraged. Using names other than self is frowned upon by most developers and degrades the readability of the code"
   ]
  },
  {
   "cell_type": "code",
   "execution_count": null,
   "id": "c303aaa4",
   "metadata": {},
   "outputs": [],
   "source": []
  },
  {
   "cell_type": "markdown",
   "id": "3cad7ebc",
   "metadata": {},
   "source": [
    "Q6. How does a Python class handle operator overloading?"
   ]
  },
  {
   "cell_type": "markdown",
   "id": "ba8288a5",
   "metadata": {},
   "source": [
    "The operator overloading in Python means provide extended meaning beyond their predefined operational meaning. Such as, we use the \"+\" operator for adding two integers as well as joining two strings or merging two lists. We can achieve this as the \"+\" operator is overloaded by the \"int\" class and \"str\" class."
   ]
  },
  {
   "cell_type": "code",
   "execution_count": null,
   "id": "a68b9313",
   "metadata": {},
   "outputs": [],
   "source": []
  },
  {
   "cell_type": "markdown",
   "id": "cc014873",
   "metadata": {},
   "source": [
    "Q7. When do you consider allowing operator overloading of your classes?"
   ]
  },
  {
   "cell_type": "markdown",
   "id": "f9ff3d82",
   "metadata": {},
   "source": [
    "When one or both operands are of a user-defined class or structure type, operator overloading makes it easier to specify user-defined implementation for such operations. This makes user-defined types more similar to the basic primitive data types in terms of behaviour."
   ]
  },
  {
   "cell_type": "code",
   "execution_count": null,
   "id": "a6df7069",
   "metadata": {},
   "outputs": [],
   "source": []
  },
  {
   "cell_type": "markdown",
   "id": "803ceb96",
   "metadata": {},
   "source": [
    "Q8. What is the most popular form of operator overloading?"
   ]
  },
  {
   "cell_type": "markdown",
   "id": "b3f50966",
   "metadata": {},
   "source": [
    "The most frequent instance is the adding up operator '+', where it can be used for the usual addition and also for combining two different strings. As mentioned, the plus symbol's practice in dissimilar forms is the largest classic example of the operator level overloading process."
   ]
  },
  {
   "cell_type": "code",
   "execution_count": null,
   "id": "7cfb2d02",
   "metadata": {},
   "outputs": [],
   "source": []
  },
  {
   "cell_type": "markdown",
   "id": "c949c231",
   "metadata": {},
   "source": [
    "Q9. What are the two most important concepts to grasp in order to comprehend Python OOP code?"
   ]
  },
  {
   "cell_type": "markdown",
   "id": "52890b89",
   "metadata": {},
   "source": [
    "Python inheritance and polymorphism are two fundamental concepts of object oriented programming. These concepts help us to create code that can be extended and easily maintainable."
   ]
  }
 ],
 "metadata": {
  "kernelspec": {
   "display_name": "Python 3 (ipykernel)",
   "language": "python",
   "name": "python3"
  },
  "language_info": {
   "codemirror_mode": {
    "name": "ipython",
    "version": 3
   },
   "file_extension": ".py",
   "mimetype": "text/x-python",
   "name": "python",
   "nbconvert_exporter": "python",
   "pygments_lexer": "ipython3",
   "version": "3.9.12"
  }
 },
 "nbformat": 4,
 "nbformat_minor": 5
}
